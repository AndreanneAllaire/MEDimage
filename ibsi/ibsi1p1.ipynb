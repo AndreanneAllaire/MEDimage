{
 "cells": [
  {
   "cell_type": "markdown",
   "id": "41675a28",
   "metadata": {},
   "source": [
    "## IBSI Chapter 1 Phase 1 − Radiomic Computations\n",
    "\n",
    "@Author : [MEDomics consortium](https://github.com/medomics/)\n",
    "\n",
    "@EMAIL : medomics.info@gmail.com\n",
    "\n",
    "@REF : [IBSI 1](https://arxiv.org/pdf/1612.07003.pdf)"
   ]
  },
  {
   "cell_type": "markdown",
   "id": "c9ef6a2c",
   "metadata": {},
   "source": [
    "**STATEMENT**:\n",
    "This file is part of <https://github.com/MEDomics/MEDomicsLab/>,\n",
    "a package providing PYTHON programming tools for radiomics analysis.\n",
    "--> Copyright (C) MEDomicsLab consortium.\n",
    "\n",
    "This package is free software: you can redistribute it and/or modify\n",
    "it under the terms of the GNU General Public License as published by\n",
    "the Free Software Foundation, either version 3 of the License, or\n",
    "(at your option) any later version.\n",
    "\n",
    "This package is distributed in the hope that it will be useful,\n",
    "but WITHOUT ANY WARRANTY; without even the implied warranty of\n",
    "MERCHANTABILITY or FITNESS FOR A PARTICULAR PURPOSE.  See the\n",
    "GNU General Public License for more details.\n",
    "\n",
    "You should have received a copy of the GNU General Public License\n",
    "along with this package.  If not, see <http://www.gnu.org/licenses/>."
   ]
  },
  {
   "cell_type": "markdown",
   "id": "ffac73c3",
   "metadata": {},
   "source": [
    "### Introduction\n",
    "\n",
    "\n",
    "In this notebook we treat the first phase of standardization of image processing and feature computation. In the figure below, we focus on the first part referred as phase 1. We only compute radiomics features from a digital phantom without any processing\n",
    "\n",
    "<img src=\"https://www.researchgate.net/profile/Emiliano-Spezi/publication/339835844/figure/fig1/AS:867857227337731@1583924695905/Flowchart-of-study-overview-The-workflow-in-a-typical-radiomics-analysis-starts-with.ppm\" alt=\"Flowchart of radiomics study\" style=\"width:500px;\"/>"
   ]
  },
  {
   "cell_type": "markdown",
   "id": "93d06dd8",
   "metadata": {},
   "source": [
    "### Dataset - Digital phantom\n",
    "In this chapter and in this phase, reference values for features were obtained using a digital image phantom, which is described below. The digital phantom can be found here: https://github.com/theibsi/data_sets/tree/master/ibsi_1_digital_phantom"
   ]
  },
  {
   "cell_type": "markdown",
   "id": "16b5081d",
   "metadata": {},
   "source": [
    "- The phantom consists of 5 × 4 × 4 (x, y, z) voxels.\n",
    "- A slice consists of the voxels in (x, y) plane for a particular slice at position z. Slices are therefore stacked in the z direction.\n",
    "- Voxels are 2.0 × 2.0 × 2.0 mm in size.\n",
    "- Not all voxels are included in the region of interest. Several excluded voxels are located on the outside of the ROI, and one internal voxel was excluded as well. Voxels excluded from the ROI are shown in blue in figure below.\n",
    "- Some intensities are not present in the phantom. Notably, grey levels 2 and 5 are absent. 1 is the lowest grey level present in the ROI and 6 the highest."
   ]
  },
  {
   "cell_type": "markdown",
   "id": "3ed0b1bb",
   "metadata": {},
   "source": [
    "<img src=\"https://www.researchgate.net/profile/Alex-Zwanenburg/publication/311805734/figure/fig4/AS:867063404965890@1583735433294/Exploded-view-of-the-test-volume-The-number-in-each-voxel-corresponds-with-its-grey.png\" alt=\"IBSI 1 Phase 1 Digital Phantom\" style=\"width:400px;\"/>"
   ]
  },
  {
   "cell_type": "code",
   "execution_count": null,
   "id": "98c17c3c",
   "metadata": {},
   "outputs": [],
   "source": [
    "import argparse\n",
    "import json\n",
    "import os\n",
    "import pickle\n",
    "import sys\n",
    "\n",
    "MODULE_DIR = os.path.dirname(os.path.abspath('../MEDimage/MEDimage.py'))\n",
    "sys.path.append(os.path.dirname(MODULE_DIR))\n",
    "\n",
    "from copy import deepcopy\n",
    "from itertools import product\n",
    "from pathlib import Path\n",
    "\n",
    "from numpyencoder import NumpyEncoder\n",
    "\n",
    "from MEDimage.MEDimage import MEDimage\n",
    "from MEDimage.MEDimageComputeRadiomics import MEDimageComputeRadiomics\n",
    "from MEDimage.MEDimageProcessing import MEDimageProcessing\n",
    "from MEDimage.utils import jsonUtils"
   ]
  },
  {
   "cell_type": "code",
   "execution_count": null,
   "id": "335b97e8",
   "metadata": {},
   "outputs": [],
   "source": [
    "from MEDimage.processing.get_roi_from_indexes import get_roi_from_indexes\n",
    "from MEDimage.processing.roi_extract import roi_extract"
   ]
  },
  {
   "cell_type": "code",
   "execution_count": null,
   "id": "c32993fc",
   "metadata": {},
   "outputs": [],
   "source": [
    "def __getPathResults():\n",
    "    if not (Path(os.getcwd()) / \"results/ibsi1/phase1\").exists():\n",
    "        _rp = Path(os.getcwd()) / \"results/ibsi1/phase1\"\n",
    "        Path.mkdir(_rp, parents=True)\n",
    "    return _rp"
   ]
  },
  {
   "cell_type": "markdown",
   "id": "a95e5e20",
   "metadata": {},
   "source": [
    "### Initialization\n",
    "\n",
    "We start by initializing the important paths (settings folder, dataset folder...). Then the important variables: file name, ROI name and load the computation parameters."
   ]
  },
  {
   "cell_type": "code",
   "execution_count": null,
   "id": "2afa7d92",
   "metadata": {},
   "outputs": [],
   "source": [
    "pathData = Path(os.getcwd()) / \"data\" # Path to the digital phantom folder\n",
    "pathSettings = Path(os.getcwd()) / \"settings\" # Path to the script settings/configuration folder\n",
    "path_read = pathData /'Phantom' # Path to the digital phantom\n",
    "name_read = 'FIG61__SEG(tumorAuto).CTscan.nii.gz' # Digital phantom file name\n",
    "name_roi = '{tumor}' # Region of interest name\n",
    "roi_type = ''\n",
    "roi_type_label = ''\n",
    "# Load script parameters\n",
    "im_params = jsonUtils.load_json(pathSettings / 'Phase1_settings.json')"
   ]
  },
  {
   "cell_type": "code",
   "execution_count": null,
   "id": "9c2c4904",
   "metadata": {},
   "outputs": [],
   "source": [
    "def process_image(MEDimageProcess, MEDimageCR):\n",
    "    \"\"\"\n",
    "    Extracts ROI mask and creates intensity mask.\n",
    "    :param MEDimgProcess: Instance of MEDImageProcessing.\n",
    "    :param MEDImageCR: Instance of MEDImageComputeRadiomics.\n",
    "    :return: Four image volume objects (Intensity mask, morphological mask and their volume object).\n",
    "    \"\"\"\n",
    "    # Extraction of ROI mask :\n",
    "    volObjInit, roiObjInit = get_roi_from_indexes(MEDimageProcess, name_roi=name_roi,box_string='full')\n",
    " \n",
    "    # Morphological Mask :\n",
    "    vol_obj = deepcopy(volObjInit)\n",
    "    roi_obj_morph = deepcopy(roiObjInit)\n",
    "\n",
    "    # Intensity Mask Creation :\n",
    "    roi_obj_int = deepcopy(roi_obj_morph)\n",
    "\n",
    "    # Preparation of computation :\n",
    "    MEDimageCR.init_nft_calculation(vol_obj)\n",
    "\n",
    "    # Image volume ROI Extraction :\n",
    "    vol_int_re = roi_extract(\n",
    "        vol=vol_obj.data, \n",
    "        roi=roi_obj_int.data\n",
    "    )\n",
    "\n",
    "    return vol_obj, roi_obj_morph, vol_int_re, roi_obj_int"
   ]
  },
  {
   "cell_type": "code",
   "execution_count": null,
   "id": "da18679b",
   "metadata": {},
   "outputs": [],
   "source": [
    "def save_results(MEDImageCR, pathResults):\n",
    "    \"\"\"\n",
    "    Saves the results in a JSON file under the name : Results_P1.json\n",
    "    :param MEDImageCR: Instance of MEDImageComputeRadiomics class.\n",
    "    :return: None.\n",
    "    \"\"\"\n",
    "    with open(pathResults / f\"phase1/Results_P1.json\", \"w\") as fp:   \n",
    "        json.dump(MEDImageCR.Params['radiomics']['image'], fp, indent=4, cls=NumpyEncoder)\n",
    "\n",
    "    return 0"
   ]
  },
  {
   "cell_type": "markdown",
   "id": "1cf2047b",
   "metadata": {},
   "source": [
    "### Classes initilization\n",
    "In the IBSI scripts we are going to use the **MEDimage** class and its derived classes (**MEDimageProcessing** and **MEDimageComputeRadiomics**) to process the images and to extract the features. \n",
    "- **MEDimage**: Is a Python class that organizes all scan data and many other useful information that is used by the many processing and computing methods.\n",
    "- **MEDimageProcessing**: A **MEDimage** derived class that uses the inherited attributes and many other non-inherited attributes to process the imaging data (interpolation, segmentation...).\n",
    "- **MEDimageComputeRadiomics**: Another **MEDimage** derived class that uses the inherited attributes and many other non-inherited attributes to compute/extract features (statistical features, morphological features...) from the imaging data.\n",
    "\n",
    "\n",
    "So the first step is to initialize the MEDimage class either using a **NIFTI** or a **NPY** file. The npy format already contains a MEDimage instance, for the NIFTI format make sure the mask file is in the same folder with the correct name with the following conventions: \n",
    "- NPY format: **patient_id__imaging_scan_name.imagning_modality.npy**\n",
    "- NIfTI format: \n",
    "    - Tumor volume: **patient_id__imaging_scan_name(tumorAuto).imagning_modality.nii.gz**\n",
    "    - ROI mask: **patient_id__imaging_scan_name(tumor).ROI.nii.gz**"
   ]
  },
  {
   "cell_type": "code",
   "execution_count": null,
   "id": "c7ae2418",
   "metadata": {
    "scrolled": false
   },
   "outputs": [],
   "source": [
    "from MEDimage.utils.initMEDimage import initMEDimage\n",
    "\n",
    "MEDimageProcess, MEDimageCR = initMEDimage(name_read, path_read, roi_type, im_params, 'log_file_ibsi1p1.txt')"
   ]
  },
  {
   "cell_type": "markdown",
   "id": "762888ca",
   "metadata": {},
   "source": [
    "### Image processing\n",
    "For this phase the only processing we need to do is to extract the ROI and replace the excluded values (values outside the ROI) in the image volume with a placeholder (NaN). The intensity and morphological mask are identical in this case (no re-segmentation is done here)."
   ]
  },
  {
   "cell_type": "code",
   "execution_count": null,
   "id": "bc0c4790",
   "metadata": {},
   "outputs": [],
   "source": [
    "vol_obj, roi_obj_morph, vol_int_re, roi_obj_int = process_image(MEDimageProcess, MEDimageCR)"
   ]
  },
  {
   "cell_type": "markdown",
   "id": "a39c0f0a",
   "metadata": {},
   "source": [
    "### Non-Texture Features extraction\n",
    "In this section we extract the following famillies of features using MEDimageComputeRadiomics methods : \n",
    "\n",
    "*morphological features, local intensity, statistical, Intensity-based and intensity histogram-based.*\n",
    "\n",
    "No further image processing is required."
   ]
  },
  {
   "cell_type": "markdown",
   "id": "54668295",
   "metadata": {},
   "source": [
    "#### Morphological features\n",
    "\n",
    "Morphological features describe geometric aspects of a region of interest (ROI), such as area and\n",
    "volume. Morphological features are based on ROI voxel representations of the volume."
   ]
  },
  {
   "cell_type": "code",
   "execution_count": null,
   "id": "cbd48457",
   "metadata": {
    "scrolled": true
   },
   "outputs": [],
   "source": [
    "from MEDimage.biomarkers.getMorphFeatures import getMorphFeatures\n",
    "\n",
    "MORPH = getMorphFeatures(\n",
    "    vol=vol_obj.data, \n",
    "    mask_int=roi_obj_int.data, \n",
    "    mask_morph=roi_obj_morph.data,\n",
    "    res=MEDimageCR.Params['scale_non_text'],\n",
    "    intensity=MEDimageCR.Params['intensity']\n",
    ")"
   ]
  },
  {
   "cell_type": "markdown",
   "id": "ee0e80e4",
   "metadata": {},
   "source": [
    "#### Local intensity features\n",
    "\n",
    "Voxel intensities within a defined neighborhood around a center voxel are used to compute local\n",
    "intensity features. By definition, local intensity features are calculated in 3D, and not per slice."
   ]
  },
  {
   "cell_type": "code",
   "execution_count": null,
   "id": "8de3dfc5",
   "metadata": {},
   "outputs": [],
   "source": [
    "from MEDimage.biomarkers.getLocIntFeatures import getLocIntFeatures\n",
    "\n",
    "LocalIntensity = getLocIntFeatures(\n",
    "    img_obj=vol_obj.data, \n",
    "    roi_obj=roi_obj_int.data,\n",
    "    res=MEDimageCR.Params['scale_non_text'],\n",
    "    intensity=MEDimageCR.Params['intensity']\n",
    ")"
   ]
  },
  {
   "cell_type": "markdown",
   "id": "65290cfd",
   "metadata": {},
   "source": [
    "#### Intensity-based statistical features\n",
    "\n",
    "The intensity-based statistical features describe how intensities within the region of interest (ROI)\n",
    "are distributed. The features in this set do not require discretization, and may be used to describe\n",
    "a continuous intensity distribution."
   ]
  },
  {
   "cell_type": "code",
   "execution_count": null,
   "id": "f91a2145",
   "metadata": {},
   "outputs": [],
   "source": [
    "from MEDimage.biomarkers.getStatsFeatures import getStatsFeatures\n",
    "\n",
    "Stats = getStatsFeatures(\n",
    "    vol=vol_int_re,\n",
    "    intensity=MEDimageCR.Params['intensity']\n",
    ")"
   ]
  },
  {
   "cell_type": "markdown",
   "id": "60a1bb76",
   "metadata": {},
   "source": [
    "#### Intensity histogram features\n",
    "\n",
    "An intensity histogram is generated by discretizing the original intensity distribution into\n",
    "intensity bins."
   ]
  },
  {
   "cell_type": "code",
   "execution_count": null,
   "id": "7ef91c1b",
   "metadata": {},
   "outputs": [],
   "source": [
    "from MEDimage.biomarkers.getIntHistFeatures import getIntHistFeatures\n",
    "\n",
    "int_hist = getIntHistFeatures(\n",
    "    vol=vol_int_re\n",
    ")"
   ]
  },
  {
   "cell_type": "markdown",
   "id": "ac52e085",
   "metadata": {},
   "source": [
    "#### Intensity-volume histogram features\n",
    "\n",
    "The (cumulative) intensity-volume histogram (IVH) of the set of voxel intensities in the ROI\n",
    "intensity mask describes the relationship between discretized intensity and the fraction of the\n",
    "volume containing at least intensity the same intensity."
   ]
  },
  {
   "cell_type": "code",
   "execution_count": null,
   "id": "9fc60011",
   "metadata": {},
   "outputs": [],
   "source": [
    "from MEDimage.biomarkers.extract_all import extract_all\n",
    "\n",
    "IntensityVolHistogram = extract_all(\n",
    "            MEDimg=MEDimageProcess,\n",
    "            vol=vol_int_re,\n",
    "            vol_int_re=vol_int_re, \n",
    "            wd=1\n",
    ")"
   ]
  },
  {
   "cell_type": "markdown",
   "id": "6a3d01ae",
   "metadata": {},
   "source": [
    "### Texture Features extraction\n",
    "In this section, for each text scale<sup>1</sup> we extract the matrix-based features using MEDimageComputeRadiomics methods : \n",
    "\n",
    "*Grey level co-occurrence based features (GLCM), grey level run length based features (GLRLM), grey level size zone matrix (GLSZM), grey level distance zone matrix (GLDZM), neighborhood grey tone difference matrix (NGTDM) and neighboring grey level dependence matrix (NGLDM).*\n",
    "\n",
    "After the computation is finished, we update the radiomics structure (update the attributes for results). \n",
    "\n",
    "No further image processing is done in this section as well.\n",
    "\n",
    "<sup>1</sup> For each time we resample the voxel spacing (In this case we resample the voxel spacing one time)."
   ]
  },
  {
   "cell_type": "markdown",
   "id": "400bcd20",
   "metadata": {},
   "source": [
    "**Note**: For our case (IBSI 1, Phase 1) we only re-sample the voxel spacing one time so the texture features will be calculated one time."
   ]
  },
  {
   "cell_type": "code",
   "execution_count": null,
   "id": "5bc89af2",
   "metadata": {},
   "outputs": [],
   "source": [
    "# Intensity mask creation :\n",
    "roi_obj_int = deepcopy(roi_obj_morph)\n",
    "\n",
    "# Preparation of computation :\n",
    "MEDimageCR.init_tf_calculation(Algo=0, Gl=0, Scale=0)\n",
    "\n",
    "# ROI Extraction :\n",
    "vol_quant_re = roi_extract(\n",
    "    vol=vol_obj.data, \n",
    "    roi=roi_obj_int.data\n",
    "    )"
   ]
  },
  {
   "cell_type": "markdown",
   "id": "dad64c28",
   "metadata": {},
   "source": [
    "#### Grey level co-occurrence based features\n",
    "\n",
    "The grey level co-occurrence matrix (GLCM) is a matrix that expresses how combinations of\n",
    "discretized intensities (grey levels) of neighboring pixels, or voxels in a 3D volume, are distributed\n",
    "along one of the image directions."
   ]
  },
  {
   "cell_type": "code",
   "execution_count": null,
   "id": "b1ba460c",
   "metadata": {},
   "outputs": [],
   "source": [
    "from MEDimage.biomarkers.getGLCMfeatures import getGLCMfeatures\n",
    "\n",
    "GLCM = getGLCMfeatures(\n",
    "        vol=vol_quant_re, \n",
    "        distCorrection=MEDimageCR.Params['radiomics']['imParam']['image']['glcm']['distCorrection'])"
   ]
  },
  {
   "cell_type": "markdown",
   "id": "2dc89ef8",
   "metadata": {},
   "source": [
    "#### Grey level run length based features\n",
    "The grey level run length matrix (GLRLM) defines various texture features. Like the grey level co-occurrence matrix, GLRLM also assesses the distribution of\n",
    "discretized grey levels in an image or in a stack of images. However, whereas GLCM assesses\n",
    "co-occurrence of grey levels within neighboring pixels or voxels, GLRLM assesses run lengths. A\n",
    "run length is defined as the length of a consecutive sequence of pixels or voxels with the same grey level along a direction."
   ]
  },
  {
   "cell_type": "code",
   "execution_count": null,
   "id": "ffc856b0",
   "metadata": {},
   "outputs": [],
   "source": [
    "from MEDimage.biomarkers.extract_all import extract_all\n",
    "\n",
    "GLRLM = extract_all(\n",
    "        vol=vol_quant_re, \n",
    "        distCorrection=MEDimageCR.Params['radiomics']['imParam']['image']['extract_all']['distCorrection'])"
   ]
  },
  {
   "cell_type": "markdown",
   "id": "fe42c1a3",
   "metadata": {},
   "source": [
    "#### Grey level size zone based features\n",
    "\n",
    "The grey level size zone matrix (GLSZM) counts the number of groups (or zones) of linked voxels.\n",
    "Voxels are linked if the neighboring voxel has an identical neighboring grey level."
   ]
  },
  {
   "cell_type": "code",
   "execution_count": null,
   "id": "f3ab15dd",
   "metadata": {
    "scrolled": true
   },
   "outputs": [],
   "source": [
    "from MEDimage.biomarkers.getGLSZMfeatures import getGLSZMfeatures\n",
    "\n",
    "GLSZM = getGLSZMfeatures(\n",
    "        vol=vol_quant_re\n",
    "        )"
   ]
  },
  {
   "cell_type": "markdown",
   "id": "4281a7f7",
   "metadata": {},
   "source": [
    "#### Grey level distance zone based features\n",
    "\n",
    "The grey level distance zone matrix (GLDZM) counts the number of groups (or zones) of linked\n",
    "voxels which share a specific neighboring grey level value and possess the same distance to ROI\n",
    "edge. The GLDZM thus captures the relation between location and grey level."
   ]
  },
  {
   "cell_type": "code",
   "execution_count": null,
   "id": "96a026c2",
   "metadata": {},
   "outputs": [],
   "source": [
    "from MEDimage.biomarkers.getGLDZMfeatures import getGLDZMfeatures\n",
    "\n",
    "GLDZM = getGLDZMfeatures(\n",
    "        volInt=vol_quant_re, \n",
    "        mask_morph=roi_obj_morph.data\n",
    "        )"
   ]
  },
  {
   "cell_type": "markdown",
   "id": "fceb6731",
   "metadata": {},
   "source": [
    "####  Neighbourhood grey tone difference based features\n",
    "\n",
    "The neighborhood grey tone difference matrix (NGTDM) contains the sum of grey level differences\n",
    "of pixels/voxels with a discretized grey level and the average discretized grey level of neighboring pixels/voxels within a Chebyshev distance. "
   ]
  },
  {
   "cell_type": "code",
   "execution_count": null,
   "id": "18ea2f75",
   "metadata": {},
   "outputs": [],
   "source": [
    "from MEDimage.biomarkers.getNGTDMfeatures import getNGTDMfeatures\n",
    "\n",
    "NGTDM = getNGTDMfeatures(\n",
    "        vol=vol_quant_re, \n",
    "        distCorrection=MEDimageCR.Params['radiomics']['imParam']['image']['ngtdm']['distCorrection'])"
   ]
  },
  {
   "cell_type": "markdown",
   "id": "2c226236",
   "metadata": {},
   "source": [
    "####  Neighbouring grey level dependence based features:\n",
    "\n",
    "The neighbouring grey level dependence matrix (NGLDM) aims to capture the coarseness of the overall\n",
    "texture and is rotationally invariant."
   ]
  },
  {
   "cell_type": "code",
   "execution_count": null,
   "id": "c7b48e08",
   "metadata": {},
   "outputs": [],
   "source": [
    "from MEDimage.biomarkers.getNGLDMfeatures import getNGLDMfeatures\n",
    "\n",
    "NGLDM = getNGLDMfeatures(\n",
    "        vol=vol_quant_re\n",
    "        )"
   ]
  },
  {
   "cell_type": "code",
   "execution_count": null,
   "id": "0169e310",
   "metadata": {},
   "outputs": [],
   "source": [
    "# Updating radiomics structure\n",
    "MEDimageCR.update_radiomics(int_vol_hist=IntensityVolHistogram, morph=MORPH,\n",
    "            local_intensity=LocalIntensity, stats=Stats, int_hist=int_hist,\n",
    "            glcm=GLCM, glrlm=GLRLM, glszm=GLSZM, gldzm=GLDZM, \n",
    "            ngtdm=NGTDM, ngldm=NGLDM)\n"
   ]
  },
  {
   "cell_type": "markdown",
   "id": "de7d666f",
   "metadata": {},
   "source": [
    "Finally we print the results"
   ]
  },
  {
   "cell_type": "code",
   "execution_count": null,
   "id": "b50a025e",
   "metadata": {
    "scrolled": false
   },
   "outputs": [],
   "source": [
    "print(json.dumps(MEDimageCR.Params['radiomics']['image'], indent=4, cls=NumpyEncoder))"
   ]
  },
  {
   "cell_type": "markdown",
   "id": "b34aeaf4",
   "metadata": {},
   "source": [
    "Run this cell to save the results in JSON format on your machine"
   ]
  },
  {
   "cell_type": "code",
   "execution_count": null,
   "id": "72007e94",
   "metadata": {},
   "outputs": [],
   "source": [
    "#pathResults = __getPathResults() # Path to where the results are gonna be saved \n",
    "#save_results(MEDImageCR, pathResults)"
   ]
  }
 ],
 "metadata": {
  "kernelspec": {
   "display_name": "medomics",
   "language": "python",
   "name": "medomics"
  },
  "language_info": {
   "codemirror_mode": {
    "name": "ipython",
    "version": 3
   },
   "file_extension": ".py",
   "mimetype": "text/x-python",
   "name": "python",
   "nbconvert_exporter": "python",
   "pygments_lexer": "ipython3",
   "version": "3.8.10"
  }
 },
 "nbformat": 4,
 "nbformat_minor": 5
}
