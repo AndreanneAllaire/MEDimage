{
 "cells": [
  {
   "cell_type": "markdown",
   "id": "ecdbaa79",
   "metadata": {},
   "source": [
    "## IBSI Chapter 2 Phase 2 − Image filtering\n",
    "\n",
    "@Author : [MEDomics consortium](https://github.com/medomics/)\n",
    "\n",
    "@EMAIL : medomics.info@gmail.com\n",
    "\n",
    "@REF : [IBSI 2](https://www.overleaf.com/read/hwhjswzkhwdh)"
   ]
  },
  {
   "attachments": {},
   "cell_type": "markdown",
   "id": "728592c9",
   "metadata": {},
   "source": [
    "### intorduction\n",
    "\n",
    "The aim of this chapter and this phase is to extract filter-based radiomics features from the same CT-image mentionned in chapter 1. The methodology used to extract these values is described in [IBSI 2 benchmarking 5.2](https://www.overleaf.com/project/5da9e0b82f399f0001ad3970). As shows the following figure, the IBSI chapter 2 gives 2 configurations to test for image processing : configuration *A* and *B*.\n",
    "\n",
    "\n",
    "<img src=\"https://github.com/MahdiAll99/MEDimage/blob/main/IBSI-TESTs/images/ibsi2-p2-configurations.png?raw=true\" alt=\"Flowchart of radiomics study\"/>\n",
    "\n",
    "**Note**: The configuration *A* is 2D so it will not be tested (MEDomicsLab does not use slice wise computation)."
   ]
  },
  {
   "cell_type": "markdown",
   "id": "f7e50565",
   "metadata": {},
   "source": [
    "### Dataset - CT image\n",
    "We use the same CT image as in IBSI 1 phase 2. The image can be found here: [ibsi_1_ct_radiomics_phantom](https://github.com/theibsi/data_sets/tree/master/ibsi_1_ct_radiomics_phantom)"
   ]
  },
  {
   "cell_type": "code",
   "execution_count": null,
   "id": "27c54241",
   "metadata": {},
   "outputs": [],
   "source": [
    "import argparse\n",
    "import math\n",
    "import os\n",
    "import pickle\n",
    "import sys\n",
    "from copy import deepcopy\n",
    "from itertools import product\n",
    "from json import dump, dumps\n",
    "from pathlib import Path\n",
    "\n",
    "import matplotlib.pyplot as plt\n",
    "import nibabel as nib\n",
    "import numpy as np\n",
    "from matplotlib.cm import ScalarMappable\n",
    "from matplotlib.colors import Normalize\n",
    "from numpyencoder import NumpyEncoder\n",
    "\n",
    "MODULE_DIR = os.path.dirname(os.path.abspath('../MEDimage/MEDimage.py'))\n",
    "sys.path.append(os.path.dirname(MODULE_DIR))\n",
    "\n",
    "import numpy as np\n",
    "from MEDimage.MEDimage import MEDimage\n",
    "from MEDimage.MEDimageComputeRadiomics import MEDimageComputeRadiomics\n",
    "from MEDimage.MEDimageProcessing import MEDimageProcessing\n",
    "from MEDimage.utils import jsonUtils\n",
    "from numpyencoder import NumpyEncoder"
   ]
  },
  {
   "cell_type": "code",
   "execution_count": null,
   "id": "922ba454",
   "metadata": {},
   "outputs": [],
   "source": [
    "from MEDimage.processing.get_roi_from_indexes import get_roi_from_indexes\n",
    "from MEDimage.processing.roi_extract import roi_extract"
   ]
  },
  {
   "cell_type": "code",
   "execution_count": null,
   "id": "c32993fc",
   "metadata": {},
   "outputs": [],
   "source": [
    "def __getPathResults():\n",
    "    _rp = Path(os.getcwd()) / \"results/ibsi2/phase2\"\n",
    "    if not _rp.exists():\n",
    "        Path.mkdir(_rp, parents=True)\n",
    "    return _rp"
   ]
  },
  {
   "attachments": {},
   "cell_type": "markdown",
   "id": "cb11c5ea",
   "metadata": {},
   "source": [
    "### Configuration\n",
    "\n",
    "The first step in this notebook is choosing the test ID (Test to run). Since only configuration B is implemented, we don't specify the configuration in the test ID .i.e. instead of test ID *5.B* we use test ID *5* Test IDs accepted : *1* *2* *3* *4* *5* *6* and *7* (equivalent to *1.B* *2.B* *3.B* *4.B* *5.B* *6.B* and *7.B* in the IBSI). Filters and parameters for the configurations B (ҎD) defined in the following table (The filter parameters for config *B* are in the second row of each test ID):\n",
    "\n",
    "<img src=\"https://github.com/MahdiAll99/MEDimage/blob/main/IBSI-TESTs/images/ibsi2-p2-testids.png?raw=true\" alt=\"Flowchart of radiomics study\"/>\n"
   ]
  },
  {
   "cell_type": "code",
   "execution_count": null,
   "id": "2f7b501b",
   "metadata": {},
   "outputs": [],
   "source": [
    "test_id = '1' # test ID. More details about tests can be found in the IBSI chapter 2 reference"
   ]
  },
  {
   "cell_type": "markdown",
   "id": "0b8a2db1",
   "metadata": {},
   "source": [
    "### Initialization"
   ]
  },
  {
   "cell_type": "markdown",
   "id": "63ee7477",
   "metadata": {},
   "source": [
    "We start by initializing the important paths to settings folder, dataset folder..."
   ]
  },
  {
   "cell_type": "markdown",
   "id": "c399fcd4",
   "metadata": {},
   "source": [
    "File name should respect the following norm : \n",
    "- NPY format : PatientNameOrID__imaging_scan_name.imagning_modality.npy\n",
    "- NIFTI format : PatientNameOrID__imaging_scan_name(tumorAuto).imagning_modality.nii.gz"
   ]
  },
  {
   "cell_type": "code",
   "execution_count": null,
   "id": "e615b158",
   "metadata": {},
   "outputs": [],
   "source": [
    "pathData = Path(os.getcwd()) / \"data\" # Path to the data folder\n",
    "path_read = pathData / 'CTimage' # Path to the CT-image folder\n",
    "pathSettings = Path(os.getcwd()) / \"settings\" # Path to the settings/configuration folder\n",
    "\n",
    "name_roi = '{GTV-1}' # Region of interest name\n",
    "name_read = \"PAT1__CT(tumorAuto).CTscan.nii.gz\" # CT image filename\n",
    "roi_type = ''"
   ]
  },
  {
   "cell_type": "code",
   "execution_count": null,
   "id": "8c30b817",
   "metadata": {},
   "outputs": [],
   "source": [
    "from MEDimage.processing.interp_volume import interp_volume\n",
    "\n",
    "def _interpolate(MEDimageProcess, name_roi):\n",
    "    \"\"\"\n",
    "    Runs voxel interpolation on MEDimage volume data and creates the intensity + morphological mask.\n",
    "    :param MEDimageProcess: Instance of MEDImageProcessing.\n",
    "    :param name_roi: The name of the region of interest used for the processing\n",
    "    :return: Two volume objects (Intensity mask and the morphological mask).\n",
    "    \"\"\"\n",
    "    volObjInit, roiObjInit = get_roi_from_indexes(MEDimageProcess, name_roi=name_roi, box_string='full')\n",
    "\n",
    "    # --------> Intensity Mask :\n",
    "    vol_obj = interp_volume(\n",
    "        MEDimageProcess,\n",
    "        vol_obj_s=volObjInit,\n",
    "        vox_dim=MEDimageProcess.Params['scaleNonText'],\n",
    "        interp_met=MEDimageProcess.Params['volInterp'],\n",
    "        roundVal=MEDimageProcess.Params['glRound'],\n",
    "        image_type='image',\n",
    "        roiObjS=roiObjInit,\n",
    "        box_string=MEDimageProcess.Params['box_string']\n",
    "    )\n",
    "    # --------> Morphological Mask :\n",
    "    roi_obj_morph = interp_volume(\n",
    "        MEDimageProcess,\n",
    "        vol_obj_s=roiObjInit,\n",
    "        vox_dim=MEDimageProcess.Params['scaleNonText'],\n",
    "        interp_met=MEDimageProcess.Params['roiInterp'],\n",
    "        roundVal=MEDimageProcess.Params['roiPV'], \n",
    "        image_type='roi',\n",
    "        roiObjS=roiObjInit,\n",
    "        box_string=MEDimageProcess.Params['box_string']\n",
    "    )\n",
    "\n",
    "    return vol_obj, roi_obj_morph"
   ]
  },
  {
   "cell_type": "code",
   "execution_count": null,
   "id": "14de0199",
   "metadata": {},
   "outputs": [],
   "source": [
    "from MEDimage.processing.range_re_seg import range_re_seg\n",
    "from MEDimage.processing.outlier_re_seg import outlier_re_seg\n",
    "\n",
    "def _resegment(MEDimageProcess, vol_obj, roi_obj_morph):\n",
    "    \"\"\"\n",
    "    Outlier resegmentation of the ROI mask.\n",
    "    :param MEDimageProcess: Instance of MEDImageProcessing.\n",
    "    :param vol_obj: Filtered volume object.\n",
    "    :param roi_obj_morph: Morphological mask.\n",
    "    :return: Volume object of the intensity mask.\n",
    "    \"\"\"\n",
    "    # Range Re-Segmentation :\n",
    "    roi_obj_int = deepcopy(roi_obj_morph)\n",
    "    roi_obj_int.data = range_re_seg(vol=vol_obj.data, \n",
    "                                 roi=roi_obj_int.data,\n",
    "                                 im_range=MEDimageProcess.Params['im_range']\n",
    "    )\n",
    "    # Outlier Re-Segmentation :\n",
    "    roi_obj_int.data = np.logical_and(\n",
    "        outlier_re_seg(vol=vol_obj.data, roi=roi_obj_int.data, outliers=MEDimageProcess.Params['outliers']),\n",
    "        roi_obj_int.data\n",
    "    ).astype(int)\n",
    "    \n",
    "    return roi_obj_int"
   ]
  },
  {
   "cell_type": "code",
   "execution_count": null,
   "id": "564efd43",
   "metadata": {},
   "outputs": [],
   "source": [
    "def plot_comparison(result, original_data, _slice, test_id, filter_name):\n",
    "    \"\"\"\n",
    "    Plot the coronal, axial and sagittal slices of the original image and the result image.\n",
    "    :param result: The result obtained by the program.\n",
    "    :param original_data: The original image\n",
    "    :param _slice: Which slice will be plotted along each axis.\n",
    "    :param test_id: The test identifier as string that will be used in the figure name. \"Exemple: 2\"\n",
    "    :param filter_name: Name of the filter used.\n",
    "    \"\"\"\n",
    "    if not filter_name:\n",
    "        filter_name = 'no filter'\n",
    "        \n",
    "    if len(original_data.shape) > 3:\n",
    "        original_data = np.squeeze(original_data)\n",
    "\n",
    "    fig = plt.figure(figsize=(12, 12))\n",
    "    fig.canvas.manager.set_window_title('Phase2_ID' + test_id + 'B')\n",
    "\n",
    "    if original_data is not None:\n",
    "\n",
    "        fig.suptitle(f'Original image vs Processed image using {filter_name}. (Test ID : {test_id}.B)', fontsize=16)\n",
    "\n",
    "        fig.add_subplot(2, 3, 1, ylabel=\"Original image\", title=\"Coronal\")\n",
    "        plt.imshow(original_data[:, :, _slice], cmap='gray')\n",
    "\n",
    "        fig.add_subplot(2, 3, 2, title=\"Axial\")\n",
    "        plt.imshow(original_data[:, _slice, :], cmap='gray')\n",
    "\n",
    "        fig.add_subplot(2, 3, 3, title=\"Sagittal\")\n",
    "        plt.imshow(original_data[_slice, :, :], cmap='gray')\n",
    "\n",
    "        fig.add_subplot(2, 3, 4, ylabel=\"Result\")\n",
    "        plt.imshow(result[:, :, _slice], cmap='gray')\n",
    "\n",
    "        fig.add_subplot(2, 3, 5)\n",
    "        plt.imshow(result[:, _slice, :], cmap='gray')\n",
    "\n",
    "        fig.add_subplot(2, 3, 6)\n",
    "        plt.imshow(result[_slice, :, :], cmap='gray')\n",
    "\n",
    "    else:\n",
    "        fig.add_subplot(1, 3, 1, ylabel=\"Result\")\n",
    "        plt.imshow(result[0, :, :, _slice], cmap='gray')\n",
    "\n",
    "        fig.add_subplot(1, 3, 2)\n",
    "        plt.imshow(result[0, :, _slice, :], cmap='gray')\n",
    "\n",
    "        fig.add_subplot(1, 3, 3)\n",
    "        plt.imshow(result[0, _slice, :, :], cmap='gray')\n",
    "\n",
    "    plt.show()"
   ]
  },
  {
   "cell_type": "code",
   "execution_count": null,
   "id": "91e23645",
   "metadata": {},
   "outputs": [],
   "source": [
    "def save_results(pathResults, test_id, DiagFeatures, int_hist, stats):\n",
    "    \"\"\"\n",
    "    Saves the results in a JSON file under the formatting : Results_P2.{test_id}B.json\n",
    "    :param test_id: The test identifier as string. \"Exemple: 2\"\n",
    "    :param int_hist: Dict of Intensity Histogram features.\n",
    "    :param stats: Dict of Statistical features.\n",
    "    \"\"\"\n",
    "\n",
    "    results = { 'Diagnostics' : DiagFeatures,\n",
    "                'intHist_3D' : int_hist,\n",
    "                'stats_3D' : stats}\n",
    "\n",
    "    # save results in json file:\n",
    "    with open(pathResults / f\"Results_P2.{test_id}B.json\", \"w\") as fp:   \n",
    "        dump(results, fp, indent=4, cls=NumpyEncoder)"
   ]
  },
  {
   "cell_type": "markdown",
   "id": "1cf2047b",
   "metadata": {},
   "source": [
    "### Initilization (continued)\n",
    "\n",
    "As mentioned before, CT-scan have a voxel spacing of 1 so it's gonna be our voxel length and will be used to compute the kernel size for some filter."
   ]
  },
  {
   "cell_type": "code",
   "execution_count": null,
   "id": "1dc0a8c0",
   "metadata": {},
   "outputs": [],
   "source": [
    "VOLEX_LENGTH = 1"
   ]
  },
  {
   "cell_type": "markdown",
   "id": "8ed2b37c",
   "metadata": {},
   "source": [
    "Extract the right parameters/configurations for the script"
   ]
  },
  {
   "cell_type": "code",
   "execution_count": null,
   "id": "272c6926",
   "metadata": {},
   "outputs": [],
   "source": [
    "im_params = jsonUtils.load_json(pathSettings / 'IBSI2Phase2B_settings.json')"
   ]
  },
  {
   "cell_type": "markdown",
   "id": "33a89b15",
   "metadata": {},
   "source": [
    "In this notebook we are going to use the **MEDimage** class and its child **MEDimageProcessing** to filter the images. So the first step is to initialize the MEDimage class using a **NIFTI** file."
   ]
  },
  {
   "cell_type": "code",
   "execution_count": null,
   "id": "c38552a7",
   "metadata": {
    "scrolled": false
   },
   "outputs": [],
   "source": [
    "from MEDimage.utils.initMEDimage import initMEDimage\n",
    "\n",
    "MEDimageProcess, MEDimageCR = initMEDimage(name_read, path_read, roi_type, im_params, 'log_file_ibsi2p2.txt')"
   ]
  },
  {
   "cell_type": "markdown",
   "id": "762888ca",
   "metadata": {},
   "source": [
    "### Image processing\n",
    "\n",
    "Processing is done prior to image filtering. The processing steps are:\n",
    "- Segmentation (Creation of ROI mask)\n",
    "- Interpolation :\n",
    "    - resampled voxel spacing (mm) : [1 × 1 × 1]\n",
    "    - interpolation method : tricubic spline\n",
    "    - intensity rounding : nearest integer\n",
    "    - ROI interpolation method : trilinear\n",
    "    - ROI partial mask volume : 0.5\n",
    "- Re-segmentation :\n",
    "    - range(HU) : [-1000, 400]\n",
    "- Image filtering\n",
    "- ROI extraction\n",
    "\n",
    "**PS**: We assume that the IBSI chapter 1 is tested and the image processing steps are now clear, so no details are given here."
   ]
  },
  {
   "cell_type": "code",
   "execution_count": null,
   "id": "8d32b5d1",
   "metadata": {},
   "outputs": [],
   "source": [
    "volObjInit, roiObjInit = get_roi_from_indexes(MEDimageProcess, name_roi=name_roi, box_string='full')"
   ]
  },
  {
   "cell_type": "markdown",
   "id": "8a3deca9",
   "metadata": {},
   "source": [
    "#### Diagnostic features\n",
    "The diagnostic features are computed before and after re-segmentation and interpolation to identify the issues with the implementation (if there is any)."
   ]
  },
  {
   "cell_type": "markdown",
   "id": "3af48c78",
   "metadata": {},
   "source": [
    "##### Initial diagnostics"
   ]
  },
  {
   "cell_type": "code",
   "execution_count": null,
   "id": "52854357",
   "metadata": {},
   "outputs": [],
   "source": [
    "from MEDimage.processing.get_diag_features import get_diag_features\n",
    "\n",
    "# Extract initial diagnostic featues\n",
    "DIAG_init = get_diag_features(volObjInit, roiObjInit, roiObjInit, 'initial')"
   ]
  },
  {
   "cell_type": "markdown",
   "id": "0859fb8f",
   "metadata": {},
   "source": [
    "#### Interpolation"
   ]
  },
  {
   "cell_type": "code",
   "execution_count": null,
   "id": "a4c3ff3b",
   "metadata": {},
   "outputs": [],
   "source": [
    "# Interpolate\n",
    "vol_obj, roi_obj_morph = _interpolate(MEDimageProcess, name_roi)"
   ]
  },
  {
   "cell_type": "markdown",
   "id": "8f457ed1",
   "metadata": {},
   "source": [
    "We compare voxel spacing before and after interpolation"
   ]
  },
  {
   "cell_type": "code",
   "execution_count": null,
   "id": "3fa740e2",
   "metadata": {},
   "outputs": [],
   "source": [
    "# voxel spacing before interpolation\n",
    "print('Before interp:', volObjInit.spatial_ref.PixelExtentInWorldX, \n",
    "      volObjInit.spatial_ref.PixelExtentInWorldY,\n",
    "      volObjInit.spatial_ref.PixelExtentInWorldZ)\n",
    "# voxel spacing after interpolation\n",
    "print('After interp:',vol_obj.spatial_ref.PixelExtentInWorldX, \n",
    "      vol_obj.spatial_ref.PixelExtentInWorldY,\n",
    "      vol_obj.spatial_ref.PixelExtentInWorldZ)\n",
    "# Desired voxel spacing \n",
    "print('Desired voxel spacing is [1, 1, 1]')"
   ]
  },
  {
   "cell_type": "markdown",
   "id": "3b7b03e8",
   "metadata": {},
   "source": [
    "#### Re-segmentation"
   ]
  },
  {
   "cell_type": "code",
   "execution_count": null,
   "id": "ce4744e0",
   "metadata": {},
   "outputs": [],
   "source": [
    "roi_obj_int = _resegment(MEDimageProcess, vol_obj, roi_obj_morph)"
   ]
  },
  {
   "cell_type": "markdown",
   "id": "37c2efdb",
   "metadata": {},
   "source": [
    "##### Post-processing diagnostics"
   ]
  },
  {
   "cell_type": "code",
   "execution_count": null,
   "id": "d67c080a",
   "metadata": {},
   "outputs": [],
   "source": [
    "# Extract Diagnostic features after interpolation and re-segmentation\n",
    "DIAG_reSeg = get_diag_features(vol_obj, roi_obj_int, roi_obj_morph, 'reSeg')"
   ]
  },
  {
   "cell_type": "markdown",
   "id": "8d2c599a",
   "metadata": {},
   "source": [
    "### Image filtering\n",
    "\n",
    "Unlike the phase 1, we use the MEDimage method ***applyFilter()*** to filter the CT image. The method uses the same process as phase 1. \n",
    "\n",
    "The parameters needed are the filter name/type and the image volume object."
   ]
  },
  {
   "cell_type": "code",
   "execution_count": null,
   "id": "6ce402a0",
   "metadata": {},
   "outputs": [],
   "source": [
    "test_id = str(test_id)\n",
    "filter_name = ''\n",
    "\n",
    "if test_id == \"1\":\n",
    "    filter_name = ''\n",
    "\n",
    "elif test_id == \"2\":\n",
    "    filter_name = 'Mean'\n",
    "\n",
    "elif test_id == \"3\":\n",
    "    filter_name = 'LoG'\n",
    "\n",
    "elif test_id == \"4\":\n",
    "    filter_name = 'Laws'\n",
    "\n",
    "elif test_id == \"5\":\n",
    "    filter_name = 'Gabor'\n",
    "\n",
    "elif test_id == \"6\":\n",
    "    filter_name = 'Wavelet_db3_LLH'\n",
    "\n",
    "elif test_id == \"7\":        \n",
    "    filter_name = 'Wavelet_db3_HHH'\n",
    "\n",
    "else:\n",
    "    raise NotImplementedError\n",
    "\n",
    "if filter_name:\n",
    "    vol_obj = MEDimageProcess.applyFilter(filter_name, vol_obj)"
   ]
  },
  {
   "cell_type": "markdown",
   "id": "8bf55684",
   "metadata": {},
   "source": [
    "#### ROI-Extraction"
   ]
  },
  {
   "cell_type": "code",
   "execution_count": null,
   "id": "b5c40a4b",
   "metadata": {},
   "outputs": [],
   "source": [
    "vol_int_re = roi_extract(\n",
    "    vol=vol_obj.data, \n",
    "    roi=roi_obj_int.data\n",
    ")"
   ]
  },
  {
   "cell_type": "markdown",
   "id": "95135c5d",
   "metadata": {},
   "source": [
    "#### Features computation\n",
    "\n",
    "As mentioned in the IBSI, only part of the radiomics features standardized previously is gonna be computed. The features computed are : *statistical features* and *intensity histogram features*."
   ]
  },
  {
   "cell_type": "code",
   "execution_count": null,
   "id": "90510bd3",
   "metadata": {},
   "outputs": [],
   "source": [
    "# imports\n",
    "from MEDimage.biomarkers.getIntHistFeatures import getIntHistFeatures\n",
    "from MEDimage.biomarkers.getStatsFeatures import getStatsFeatures\n",
    "\n",
    "# Preparation of computation :\n",
    "MEDimageCR.init_nft_calculation(vol_obj)\n",
    "\n",
    "# Extract statistical and intenisty-histogram features\n",
    "# Intensity Histogram Features\n",
    "int_hist = getIntHistFeatures(\n",
    "        vol=vol_int_re\n",
    "    )\n",
    "\n",
    "# Stats Features\n",
    "Stats = getStatsFeatures(\n",
    "        vol=vol_int_re,\n",
    "        intensity=MEDimageCR.Params['intensity']\n",
    "    )\n",
    "\n",
    "# Diagnostics Features\n",
    "DiagFeatures = {\n",
    "    'diag_n_voxel' : DIAG_init['roi_initial_Int_voxNumb'],\n",
    "    'diag_n_voxel_interp_reseg' : DIAG_reSeg['roi_reSeg_Int_voxNumb'],\n",
    "    'diag_mean_int_interp_reseg' : DIAG_reSeg['roi_reSeg_meanInt'],\n",
    "    'diag_max_int_interp_reseg' : DIAG_reSeg['roi_reSeg_maxInt'],\n",
    "    'diag_min_int_interp_reseg' : DIAG_reSeg['roi_reSeg_minInt']\n",
    "    }"
   ]
  },
  {
   "cell_type": "markdown",
   "id": "2106bcab",
   "metadata": {},
   "source": [
    "Print the features extraction results"
   ]
  },
  {
   "cell_type": "code",
   "execution_count": null,
   "id": "27a13418",
   "metadata": {},
   "outputs": [],
   "source": [
    "print(dumps(\n",
    "    {'Diagnostics' : DiagFeatures, \n",
    "     'intHist_3D' : int_hist, \n",
    "     'stats_3D' : Stats}, \n",
    "    indent=4, \n",
    "    cls=NumpyEncoder)\n",
    "     )"
   ]
  },
  {
   "cell_type": "markdown",
   "id": "c87d07e7",
   "metadata": {},
   "source": [
    "Finally we plot the before-and-after image filtering"
   ]
  },
  {
   "cell_type": "code",
   "execution_count": null,
   "id": "26159935",
   "metadata": {
    "scrolled": false
   },
   "outputs": [],
   "source": [
    "_slice = 31\n",
    "plot_comparison(vol_obj.data, volObjInit.data, _slice=_slice, test_id=test_id, filter_name=filter_name)"
   ]
  },
  {
   "cell_type": "markdown",
   "id": "6b86dfc9",
   "metadata": {},
   "source": [
    "Run this cell to save the results in JSON format on your machine"
   ]
  },
  {
   "cell_type": "code",
   "execution_count": null,
   "id": "63d1088b",
   "metadata": {},
   "outputs": [],
   "source": [
    "#pathResults = __getPathResults() # Path to where the results are gonna be saved\n",
    "#save_results(pathResults, test_id, DiagFeatures, int_hist, Stats)"
   ]
  },
  {
   "cell_type": "markdown",
   "id": "f9420af5",
   "metadata": {},
   "source": [
    "The IBSI chapter 2 phase 2 features calculation results for *Udes* Team have been already submitted and can be found here : [Latest submissions](https://ibsi.radiomics.hevs.ch/#ibsi2-phase2-pane)."
   ]
  }
 ],
 "metadata": {
  "kernelspec": {
   "display_name": "medomics",
   "language": "python",
   "name": "medomics"
  },
  "language_info": {
   "codemirror_mode": {
    "name": "ipython",
    "version": 3
   },
   "file_extension": ".py",
   "mimetype": "text/x-python",
   "name": "python",
   "nbconvert_exporter": "python",
   "pygments_lexer": "ipython3",
   "version": "3.8.10"
  }
 },
 "nbformat": 4,
 "nbformat_minor": 5
}
