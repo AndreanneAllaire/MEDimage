{
 "cells": [
  {
   "cell_type": "markdown",
   "id": "ecdbaa79",
   "metadata": {},
   "source": [
    "## IBSI Chapter 1 Phase 2 − Radiomic Computations\n",
    "\n",
    "@Author : [MEDomics consortium](https://github.com/medomics/)\n",
    "\n",
    "@EMAIL : medomics.info@gmail.com\n",
    "\n",
    "@REF : [IBSI 1](https://arxiv.org/pdf/1612.07003.pdf)"
   ]
  },
  {
   "cell_type": "markdown",
   "id": "05880d2d",
   "metadata": {},
   "source": [
    "**STATEMENT**:\n",
    "This file is part of <https://github.com/MEDomics/MEDomicsLab/>,\n",
    "a package providing PYTHON programming tools for radiomics analysis.\n",
    "--> Copyright (C) MEDomicsLab consortium.\n",
    "\n",
    "This package is free software: you can redistribute it and/or modify\n",
    "it under the terms of the GNU General Public License as published by\n",
    "the Free Software Foundation, either version 3 of the License, or\n",
    "(at your option) any later version.\n",
    "\n",
    "This package is distributed in the hope that it will be useful,\n",
    "but WITHOUT ANY WARRANTY; without even the implied warranty of\n",
    "MERCHANTABILITY or FITNESS FOR A PARTICULAR PURPOSE.  See the\n",
    "GNU General Public License for more details.\n",
    "\n",
    "You should have received a copy of the GNU General Public License\n",
    "along with this package.  If not, see <http://www.gnu.org/licenses/>."
   ]
  },
  {
   "cell_type": "markdown",
   "id": "e1df9d32",
   "metadata": {},
   "source": [
    "### Introduction\n",
    "\n",
    "\n",
    "In this notebook we treat the second phase where we focus on the standardization of image processing and feature computation. In the figure below, we focus on the second part, phase 2. We compute radiomics features from a CT image after certain processing.This part is referred as phase 2 in the image below.\n",
    "\n",
    "<img src=\"https://www.researchgate.net/profile/Emiliano-Spezi/publication/339835844/figure/fig1/AS:867857227337731@1583924695905/Flowchart-of-study-overview-The-workflow-in-a-typical-radiomics-analysis-starts-with.ppm\" alt=\"Flowchart of radiomics study\" style=\"width:500px;\"/>\n"
   ]
  },
  {
   "cell_type": "markdown",
   "id": "f7e50565",
   "metadata": {},
   "source": [
    "### Dataset - CT image\n",
    "In this chapter and in this phase, reference values for features were obtained using a CT image, which is described below. The CT image can be found here: [IBSI 1 CT Phantom](https://github.com/theibsi/data_sets/tree/master/ibsi_1_ct_radiomics_phantom)"
   ]
  },
  {
   "cell_type": "markdown",
   "id": "83e3ec43",
   "metadata": {},
   "source": [
    "The CT image set is stored as a stack of slices in DICOM format. The gross tumour volume (GTV) was delineated and is used as the region of interest (ROI). Contour information is stored as an RT structure set in the DICOM\n",
    "file starting with DCM RS. For broader use, both the DICOM set and segmentation mask have been\n",
    "converted to the NIfTI format. When using the data in NIfTI format, both image stacks should\n",
    "be converted to (at least) 32-bit floating point and rounded to the nearest integer before further\n",
    "processing."
   ]
  },
  {
   "cell_type": "code",
   "execution_count": null,
   "id": "27c54241",
   "metadata": {},
   "outputs": [],
   "source": [
    "import argparse\n",
    "import os\n",
    "import pickle\n",
    "import sys\n",
    "from copy import deepcopy\n",
    "from itertools import product\n",
    "from json import dump, dumps\n",
    "from pathlib import Path\n",
    "\n",
    "MODULE_DIR = os.path.dirname(os.path.abspath('../MEDimage/MEDimage.py'))\n",
    "sys.path.append(os.path.dirname(MODULE_DIR))\n",
    "\n",
    "import numpy as np\n",
    "from MEDimage.MEDimage import MEDimage\n",
    "from MEDimage.MEDimageComputeRadiomics import MEDimageComputeRadiomics\n",
    "from MEDimage.MEDimageProcessing import MEDimageProcessing\n",
    "from MEDimage.utils import jsonUtils\n",
    "from numpyencoder import NumpyEncoder"
   ]
  },
  {
   "cell_type": "code",
   "execution_count": null,
   "id": "c77536b1",
   "metadata": {},
   "outputs": [],
   "source": [
    "from MEDimage.processing.get_roi_from_indexes import get_roi_from_indexes\n",
    "from MEDimage.processing.roi_extract import roi_extract"
   ]
  },
  {
   "cell_type": "code",
   "execution_count": null,
   "id": "c32993fc",
   "metadata": {},
   "outputs": [],
   "source": [
    "def __getPathResults():\n",
    "    _rp = Path(os.getcwd()) / \"results/ibsi1/phase2\"\n",
    "    if not _rp.exists():\n",
    "        Path.mkdir(_rp, parents=True)\n",
    "    return _rp"
   ]
  },
  {
   "cell_type": "markdown",
   "id": "cb11c5ea",
   "metadata": {},
   "source": [
    "### Configuration\n",
    "\n",
    "Most important part of the code is to chose what configuration is used for image processing. The figure below shows the different configurations possible: \n",
    "\n",
    "*A, B, C ,D and E*."
   ]
  },
  {
   "cell_type": "code",
   "execution_count": null,
   "id": "2f7b501b",
   "metadata": {},
   "outputs": [],
   "source": [
    "CONFIG = 'E' # script configuration. Possible values : 'A', 'B', 'C', 'D', 'E'"
   ]
  },
  {
   "cell_type": "markdown",
   "id": "b77612c7",
   "metadata": {},
   "source": [
    "<img src=\"https://github.com/MahdiAll99/MEDimage/blob/main/IBSI-TESTs/images/ibsi1-p1-configs.png?raw=true\" alt=\"Flowchart of radiomics study\"/>\n",
    "\n",
    "Refer to the [IBSI 1 Reference chapter 5](https://arxiv.org/pdf/1612.07003.pdf#chapter.5) for more details."
   ]
  },
  {
   "cell_type": "markdown",
   "id": "63ee7477",
   "metadata": {},
   "source": [
    "We start by initializing the important paths to settings folder, dataset folder..."
   ]
  },
  {
   "cell_type": "code",
   "execution_count": null,
   "id": "df4c0ea7",
   "metadata": {
    "scrolled": true
   },
   "outputs": [],
   "source": [
    "pathData = Path(os.getcwd()) / \"data\" # Path to the data folder\n",
    "pathSettings = Path(os.getcwd()) / \"settings\" # Path to the script settings/configuration folder"
   ]
  },
  {
   "cell_type": "markdown",
   "id": "46b59a7a",
   "metadata": {},
   "source": [
    "File naming should respect the following conventions : \n",
    "- NPY format : **patient_id__imaging_scan_name.imagning_modality.npy**\n",
    "- NIfTI format : **patient_id__imaging_scan_name(tumorAuto).imagning_modality.nii.gz**"
   ]
  },
  {
   "cell_type": "markdown",
   "id": "992e5c16",
   "metadata": {},
   "source": [
    "The following settings are set by the IBSI (**Changing** it will cause a **dissensus** with other IBSI teams):"
   ]
  },
  {
   "cell_type": "code",
   "execution_count": null,
   "id": "f562cc74",
   "metadata": {},
   "outputs": [],
   "source": [
    "name_read = 'PAT1__CT(tumorAuto).CTscan.nii.gz' # Path to the CT-image\n",
    "path_read = pathData / 'CTimage' # CT image folder name\n",
    "name_roi = '{GTV-1}' # Region of interest name\n",
    "roi_type = ''\n",
    "roi_type_label = ''"
   ]
  },
  {
   "cell_type": "code",
   "execution_count": null,
   "id": "86c4532f",
   "metadata": {},
   "outputs": [],
   "source": [
    "def get_imParams(CONFIG):\n",
    "    \"\"\"\n",
    "    Loads the corresponding configuration to run the script.\n",
    "    :param CONFIG: Configuration ID used in the script (Test ID).\n",
    "    :return: dict of the script configuration.\n",
    "    \"\"\"\n",
    "    # Config A:\n",
    "    if CONFIG == 'A':\n",
    "        im_params = jsonUtils.load_json(pathSettings / 'Phase2A_settings.json')\n",
    "\n",
    "    # Config B:\n",
    "    elif CONFIG == 'B':\n",
    "        im_params = jsonUtils.load_json(pathSettings / 'Phase2B_settings.json')\n",
    "\n",
    "    # Config C:\n",
    "    elif CONFIG == 'C':\n",
    "        im_params = jsonUtils.load_json(pathSettings / 'Phase2C_settings.json')\n",
    "\n",
    "    # Config D:\n",
    "    elif CONFIG == 'D':\n",
    "        im_params = jsonUtils.load_json(pathSettings / 'Phase2D_settings.json')\n",
    "\n",
    "    # Config E:\n",
    "    elif CONFIG == 'E':\n",
    "        im_params = jsonUtils.load_json(pathSettings / 'Phase2E_settings.json')\n",
    "\n",
    "    else:\n",
    "        raise ValueError(r\"CONFIG must be 'A', 'B', 'C', 'D' or 'E'\")\n",
    "\n",
    "    return im_params"
   ]
  },
  {
   "cell_type": "code",
   "execution_count": null,
   "id": "b019b88f",
   "metadata": {},
   "outputs": [],
   "source": [
    "def save_results(MEDimageCR, config, pathResults):\n",
    "    \"\"\"\n",
    "    Saves the results in a JSON file under the name : Results_P1.json\n",
    "    :param MEDimageCR: Instance of MEDImageComputeRadiomics class.\n",
    "    :param config: Configuration ID used in the script (Test ID).\n",
    "    :return: None.\n",
    "    \"\"\"\n",
    "    with open(pathResults / f\"Results_P2{config}.json\", \"w\") as fp:   \n",
    "        dump(MEDimageCR.Params['radiomics']['image'], fp, indent=4, cls=NumpyEncoder)"
   ]
  },
  {
   "cell_type": "markdown",
   "id": "1cf2047b",
   "metadata": {},
   "source": [
    "### Classes initialization\n",
    "\n",
    "Before the initialization we need to extract the right parameters/configurations for the script"
   ]
  },
  {
   "cell_type": "code",
   "execution_count": null,
   "id": "c38552a7",
   "metadata": {
    "scrolled": false
   },
   "outputs": [],
   "source": [
    "im_params = get_imParams(CONFIG)"
   ]
  },
  {
   "cell_type": "markdown",
   "id": "5e38618a",
   "metadata": {},
   "source": [
    "In the IBSI scripts we are going to use the **MEDimage** class and its childs (**MEDimageProcessing** and **MEDimageComputeRadiomics**) to process the images and to extract the features. So the first step is to initialize the MEDimage class either using a **NIFTI** or a **NPY** file. The npy format already contains a MEDimage instance, for the NIfTI format make sure the mask file is in the same folder with the correct name.\n"
   ]
  },
  {
   "cell_type": "code",
   "execution_count": null,
   "id": "c7ae2418",
   "metadata": {},
   "outputs": [],
   "source": [
    "from MEDimage.utils.initMEDimage import initMEDimage\n",
    "\n",
    "MEDimageProcess, MEDimageCR = initMEDimage(name_read, path_read, roi_type, im_params, 'log_file_ibsi1p2.txt')"
   ]
  },
  {
   "cell_type": "markdown",
   "id": "762888ca",
   "metadata": {},
   "source": [
    "### Image processing\n",
    "Unlike phase 1, processing is required here and different configurations can be tested as mentionned in the IBSI chapter 1. The processing steps are:\n",
    "- **Segmentation (Creation of ROI mask)**\n",
    "- **Interpolation**\n",
    "- **Re-segmentation**\n",
    "- **ROI extraction**\n",
    "- **Intensity discretization (for some family features)**\n",
    "\n",
    "**PS**: MEDomicsLab framework only supports 3D interpolation. The IBSI features computation for 2D configurations cannot be done."
   ]
  },
  {
   "cell_type": "markdown",
   "id": "0d1792ee",
   "metadata": {},
   "source": [
    "#### Segmentation\n",
    "\n",
    "ROIs are used to define the region in which features are calculated. What constitutes an ROI depends on the imaging and the study objective. In medical imaging of cancer patients, the tumour volume is a common ROI. ROIs can be defined manually by experts or (semi-)automatically using algorithms. ROIs are typically stored with the accompanying image (which is the case here)."
   ]
  },
  {
   "cell_type": "markdown",
   "id": "025ea090",
   "metadata": {},
   "source": [
    "First, we create the ROI mask"
   ]
  },
  {
   "cell_type": "code",
   "execution_count": null,
   "id": "6d377df5",
   "metadata": {},
   "outputs": [],
   "source": [
    "volObjInit, roiObjInit = get_roi_from_indexes(MEDimageProcess, name_roi=name_roi, box_string='full')"
   ]
  },
  {
   "cell_type": "markdown",
   "id": "d9bf04a2",
   "metadata": {},
   "source": [
    "We extract the initial diagnostic features, so we can identify if there is any issues with the implementation before image processing."
   ]
  },
  {
   "cell_type": "code",
   "execution_count": null,
   "id": "cba81910",
   "metadata": {},
   "outputs": [],
   "source": [
    "from MEDimage.processing.get_diag_features import get_diag_features\n",
    "\n",
    "# intial diagnostic features extraction:\n",
    "DIAG_initial = get_diag_features(volObjInit, roiObjInit, roiObjInit, 'initial')\n",
    "# Update diagnostic Dict:\n",
    "MEDimageCR.Params['radiomics']['image'].update(\n",
    "    {'Diagnostics-initial': \n",
    "        {'scale' + str(MEDimageCR.Params['scaleNonText'][0]): DIAG_initial}\n",
    "    })"
   ]
  },
  {
   "cell_type": "markdown",
   "id": "ef53024d",
   "metadata": {},
   "source": [
    "#### Interpolation\n",
    "\n",
    "Texture feature sets require interpolation to isotropic voxel spacing to be rotationally invariant, and to allow comparison between image data from different samples, cohorts or batches. Interpolation algorithms translate image intensities from the original image grid to an interpolation grid. \n",
    "\n",
    "The figure below shows different interpolation mesh grids based on an original 4 × 4 grid with (3.00, 3.00) mm spacing. The desired interpolation spacing is (2.00, 2.00) mm. *Fit to original grid* creates an interpolation mesh grid that overlaps with the corners of the original grid. *Align grid* origins creates an interpolation mesh grid that is positioned at the origin of the original grid. *Align grid centers* creates an interpolation grid that is centered on the center of original and interpolation grids"
   ]
  },
  {
   "cell_type": "markdown",
   "id": "7c9a92d8",
   "metadata": {},
   "source": [
    "<img src=\"https://github.com/MahdiAll99/MEDimage/blob/main/IBSI-TESTs/images/interpolation-ex.png?raw=true\" alt=\"Flowchart of radiomics study\"/>"
   ]
  },
  {
   "cell_type": "markdown",
   "id": "c4d88636",
   "metadata": {},
   "source": [
    "We interpolate both volume data and ROI data in order to create the morphological and the intensity masks:\n",
    "\n",
    "   - **The morphological mask**: is not re-segmented and maintains the original morphology as defined by an expert and/or (semi-)automatic segmentation algorithms.\n",
    "   - **The intensity mask**: can be re-segmented and will only contain the selected voxels. It is important for many feature families. "
   ]
  },
  {
   "cell_type": "markdown",
   "id": "cc227197",
   "metadata": {},
   "source": [
    "**PS** : Interpolation is not required for the configuration A."
   ]
  },
  {
   "cell_type": "code",
   "execution_count": null,
   "id": "06cec3bc",
   "metadata": {},
   "outputs": [],
   "source": [
    "from MEDimage.processing.interp_volume import interp_volume\n",
    "\n",
    "vol_obj = deepcopy(volObjInit)\n",
    "roi_obj_morph = deepcopy(roiObjInit)\n",
    "\n",
    "if CONFIG != 'A':\n",
    "    # Intensity Mask:\n",
    "    vol_obj = interp_volume(\n",
    "        MEDimageCR,\n",
    "        vol_obj_s=volObjInit,\n",
    "        vox_dim=MEDimageCR.Params['scaleNonText'],\n",
    "        interp_met=MEDimageCR.Params['volInterp'],\n",
    "        roundVal=MEDimageCR.Params['glRound'],\n",
    "        image_type='image',\n",
    "        roiObjS=roiObjInit,\n",
    "        box_string='full'\n",
    "    )\n",
    "    # Morphological Mask:\n",
    "    roi_obj_morph = interp_volume(\n",
    "        MEDimageCR,\n",
    "        vol_obj_s=roiObjInit,\n",
    "        vox_dim=MEDimageCR.Params['scaleNonText'],\n",
    "        interp_met=MEDimageCR.Params['roiInterp'],\n",
    "        roundVal=MEDimageCR.Params['roiPV'], \n",
    "        image_type='roi', \n",
    "        roiObjS=roiObjInit,\n",
    "        box_string='full'\n",
    "    )"
   ]
  },
  {
   "cell_type": "markdown",
   "id": "394c56d4",
   "metadata": {},
   "source": [
    "We can see how the voxel spacing can change before interpolation and after interpolation (If config is different than A)"
   ]
  },
  {
   "cell_type": "code",
   "execution_count": null,
   "id": "48fbf8d4",
   "metadata": {},
   "outputs": [],
   "source": [
    "# Desired voxel spacing\n",
    "print(f'Desired spacing (Config {CONFIG}):', \n",
    "      im_params['image']['interp']['scaleNonText'])\n",
    "\n",
    "# voxel spacing before interpolation\n",
    "print('Before interp:', [volObjInit.spatial_ref.PixelExtentInWorldX, \n",
    "      volObjInit.spatial_ref.PixelExtentInWorldY,\n",
    "      volObjInit.spatial_ref.PixelExtentInWorldZ])\n",
    "\n",
    "# voxel spacing after interpolation\n",
    "print('After interp:',[vol_obj.spatial_ref.PixelExtentInWorldX, \n",
    "      vol_obj.spatial_ref.PixelExtentInWorldY,\n",
    "      vol_obj.spatial_ref.PixelExtentInWorldZ])"
   ]
  },
  {
   "cell_type": "markdown",
   "id": "24b09e6f",
   "metadata": {},
   "source": [
    "Post-interpolation diagnostic features computation"
   ]
  },
  {
   "cell_type": "code",
   "execution_count": null,
   "id": "216ce3ff",
   "metadata": {},
   "outputs": [],
   "source": [
    "# Post-interpolation diagnostic features extraction:\n",
    "DIAG_interp = get_diag_features(vol_obj, roi_obj_morph, roi_obj_morph, 'interp')\n",
    "\n",
    "# Update diagnostic Dict:\n",
    "MEDimageCR.Params['radiomics']['image'].update(\n",
    "    {'Diagnostics-interpolated': \n",
    "        {'scale' + str(MEDimageCR.Params['scaleNonText'][0]): DIAG_interp}\n",
    "    })"
   ]
  },
  {
   "cell_type": "markdown",
   "id": "72643373",
   "metadata": {},
   "source": [
    "#### Re-segmentation\n",
    "\n",
    "Next processing step is re-segmentation, we update the ROI mask based on corresponding configuration given voxel intensities (For example exclusion of air or bone voxels from a defined ROI on CT image). "
   ]
  },
  {
   "cell_type": "markdown",
   "id": "097e9fd6",
   "metadata": {},
   "source": [
    "- **range re-segmentation**\n",
    "\n",
    "Range re-segmentation will remove voxels from the intensity mask that fall outside of a specified range. \n",
    "\n",
    "The figure below shows how intensity and morphological masks change with re-segmentation. (1) The original region of interest (ROI) is shown with pixel intensities. (2) Subsequently, the ROI is re-segmented to only contain values in the range [1, 6]. Pixels outside this range\n",
    "are marked for removal from the intensity mask. (3a) Resulting morphological mask, which is identical\n",
    "to the original ROI. (3b) Re-segmented intensity mask.\n",
    "\n",
    "<img src=\"https://www.researchgate.net/profile/Alex-Zwanenburg/publication/311805734/figure/fig3/AS:867063404961792@1583735433260/Example-showing-how-intensity-and-morphological-masks-may-differ-due-to-resegmentation.png\" alt=\"range resegmentation example\" style=\"width:500px;\"/>"
   ]
  },
  {
   "cell_type": "code",
   "execution_count": null,
   "id": "d018debc",
   "metadata": {},
   "outputs": [],
   "source": [
    "from MEDimage.processing.range_re_seg import range_re_seg\n",
    "\n",
    "roi_obj_int = deepcopy(roi_obj_morph)\n",
    "roi_obj_int.data = range_re_seg(vol=vol_obj.data, \n",
    "                             roi=roi_obj_int.data,\n",
    "                             im_range=MEDimageCR.Params['im_range'])"
   ]
  },
  {
   "cell_type": "markdown",
   "id": "5f7166bb",
   "metadata": {},
   "source": [
    "- **outlier re-segmentation**\n",
    "\n",
    "ROI voxels with outlier intensities are removed from the intensity mask.\n",
    "\n",
    "The figure below shows a re-segmentation example based on a CT-image. The masked region (blue) is re-\n",
    "segmented to create an intensity mask (orange). Examples using three different re-segmentation parameter sets are shown. The bottom right combines the range and outlier re-segmentation, and the\n",
    "resulting mask is the intersection of the masks in the other two examples\n",
    "\n",
    "<img src=\"https://ibsi.readthedocs.io/en/latest/_images/resegmentation.png\" alt=\" outlier resegmentation example\" style=\"width:500px;\"/>"
   ]
  },
  {
   "cell_type": "code",
   "execution_count": null,
   "id": "ed01b95d",
   "metadata": {},
   "outputs": [],
   "source": [
    "from MEDimage.processing.outlier_re_seg import outlier_re_seg\n",
    "\n",
    "# re-compute the range (externally) for comparison\n",
    "u = np.mean(vol_obj.data[roi_obj_int.data == 1])\n",
    "sigma = np.std(vol_obj.data[roi_obj_int.data == 1])\n",
    "\n",
    "outlierRange = [u + 3*sigma, u - 3*sigma]\n",
    "\n",
    "roi_obj_int.data = np.logical_and(\n",
    "    outlier_re_seg(vol=vol_obj.data, roi=roi_obj_int.data, outliers=MEDimageCR.Params['outliers']),\n",
    "    roi_obj_int.data\n",
    ").astype(int)"
   ]
  },
  {
   "cell_type": "markdown",
   "id": "662cd98f",
   "metadata": {},
   "source": [
    "Post-re-segmentation diagnostic features computation"
   ]
  },
  {
   "cell_type": "code",
   "execution_count": null,
   "id": "0d902458",
   "metadata": {},
   "outputs": [],
   "source": [
    "# Post-resegmentation diagnostic features extraction:\n",
    "DIAG_reSeg = get_diag_features(vol_obj, roi_obj_int, roi_obj_morph, 'reSeg')\n",
    "\n",
    "# Update diagnostic Dict:\n",
    "MEDimageCR.Params['radiomics']['image'].update({'Diagnostics-resegmented': \n",
    "                            {'scale' + str(MEDimageCR.Params['scaleNonText'][0]): DIAG_reSeg}\n",
    "                            })"
   ]
  },
  {
   "cell_type": "markdown",
   "id": "f45f8022",
   "metadata": {},
   "source": [
    "#### ROI extraction\n",
    "\n",
    "After re-segmentation, we extract the image volume that will be studied that is defined by the ROI intensity mask. Excluded voxels (Intensities outside ROI) will be replaced by *NaN* and voxels included in the ROI mask retain their original intensity as shows the figure below.\n",
    "\n",
    "<img src=\"https://ibsi.readthedocs.io/en/latest/_images/roi_extraction.png\" alt=\" ROI extraction example\" style=\"width:500px;\"/>\n"
   ]
  },
  {
   "cell_type": "code",
   "execution_count": null,
   "id": "10e53618",
   "metadata": {},
   "outputs": [],
   "source": [
    "vol_int_re = roi_extract(\n",
    "    vol=vol_obj.data, \n",
    "    roi=roi_obj_int.data\n",
    ")"
   ]
  },
  {
   "cell_type": "markdown",
   "id": "bcb75c78",
   "metadata": {},
   "source": [
    "We can check the change of intensity range before and after re-segmentation. The max and min should respect the re-segmentation range defined in the settings and the outlier range defined by the outlier re-seg algorithm. For example : in configuration A, the re-segmentation range is [-500, 400] so the intensities min and the intensities max should not be lower or higher than -500 and 400 respectively"
   ]
  },
  {
   "cell_type": "code",
   "execution_count": null,
   "id": "1bb960bf",
   "metadata": {},
   "outputs": [],
   "source": [
    "# Desired re-segmentation range\n",
    "print(f'Desired re-segmentation range (Config {CONFIG}):', \n",
    "      im_params['image']['reSeg']['range'])\n",
    "\n",
    "print(f'Desired re-segmentation outlier range (Config {CONFIG}):', \n",
    "      outlierRange)\n",
    "\n",
    "# Intensity range before re-segmentation\n",
    "print(f'Intensity range before, min:{np.min(volObjInit.data)} max:{np.max(volObjInit.data)}')\n",
    "\n",
    "# Intensity range after re-segmentation\n",
    "print(f'Intensity range after, min:{np.nanmin(vol_int_re)} max:{np.nanmax(vol_int_re)}')"
   ]
  },
  {
   "cell_type": "markdown",
   "id": "a8d28e23",
   "metadata": {},
   "source": [
    "Initialization of all the computation parameters for NON-TEXTURE FEATURES as well as the results dict."
   ]
  },
  {
   "cell_type": "code",
   "execution_count": null,
   "id": "111ccce2",
   "metadata": {},
   "outputs": [],
   "source": [
    "# Preparation of computation :\n",
    "MEDimageCR.init_nft_calculation(vol_obj)"
   ]
  },
  {
   "cell_type": "markdown",
   "id": "bae4f8fe",
   "metadata": {},
   "source": [
    "### Non-Texture Features extraction\n",
    "In this section we extract the following families of features using MEDimageComputeRadiomics methods : \n",
    "\n",
    "*morphological features, local intensity, statistical, Intensity-based and intensity histogram-based.*\n",
    "\n",
    "Further image processing is required for some features."
   ]
  },
  {
   "cell_type": "markdown",
   "id": "4209288c",
   "metadata": {},
   "source": [
    "#### Morphological features\n",
    "\n",
    "Morphological features describe geometric aspects of a region of interest (ROI), such as area and\n",
    "volume. Morphological features are based on ROI voxel representations of the volume."
   ]
  },
  {
   "cell_type": "code",
   "execution_count": null,
   "id": "85e33003",
   "metadata": {},
   "outputs": [],
   "source": [
    "from MEDimage.biomarkers.getMorphFeatures import getMorphFeatures\n",
    "\n",
    "MORPH = getMorphFeatures(\n",
    "    vol=vol_obj.data, \n",
    "    mask_int=roi_obj_int.data, \n",
    "    mask_morph=roi_obj_morph.data,\n",
    "    res=MEDimageCR.Params['scaleNonText'],\n",
    "    intensity=MEDimageCR.Params['intensity']\n",
    ")"
   ]
  },
  {
   "cell_type": "markdown",
   "id": "f0bd85ed",
   "metadata": {},
   "source": [
    "#### Local intensity features\n",
    "\n",
    "Voxel intensities within a defined neighborhood around a center voxel are used to compute local\n",
    "intensity features. By definition, local intensity features are calculated in 3D, and not per slice."
   ]
  },
  {
   "cell_type": "code",
   "execution_count": null,
   "id": "b7455697",
   "metadata": {},
   "outputs": [],
   "source": [
    "from MEDimage.biomarkers.getLocIntFeatures import getLocIntFeatures\n",
    "\n",
    "LocalIntensity = getLocIntFeatures(\n",
    "    img_obj=vol_obj.data, \n",
    "    roi_obj=roi_obj_int.data,\n",
    "    res=MEDimageCR.Params['scaleNonText'],\n",
    "    intensity=MEDimageCR.Params['intensity']\n",
    ")"
   ]
  },
  {
   "cell_type": "markdown",
   "id": "8ba00a82",
   "metadata": {},
   "source": [
    "#### Intensity-based statistical features\n",
    "\n",
    "The intensity-based statistical features describe how intensities within the region of interest (ROI)\n",
    "are distributed. The features in this set do not require discretization, and may be used to describe\n",
    "a continuous intensity distribution."
   ]
  },
  {
   "cell_type": "code",
   "execution_count": null,
   "id": "114c762d",
   "metadata": {},
   "outputs": [],
   "source": [
    "from MEDimage.biomarkers.getStatsFeatures import getStatsFeatures\n",
    "\n",
    "Stats = getStatsFeatures(\n",
    "    vol=vol_int_re,\n",
    "    intensity=MEDimageCR.Params['intensity']\n",
    ")"
   ]
  },
  {
   "cell_type": "markdown",
   "id": "d31e15f3",
   "metadata": {},
   "source": [
    "#### Intensity discretisation\n",
    "\n",
    "As mentioned before, further processing is required for some non-texture features. The last processing step is intensity discretization. Two approaches can be used : Fixed bin size (FBS) or Fixed bin number (FBN).\n",
    "- FBS : intensities are discretized to a fixed number of bins.\n",
    "- FBN : intensities are discretized to a fixed size of bins.\n",
    "\n",
    "The figure below shows Discretization of two different PET images with SUVmax of 27.8 (A) and 6.6 (B). *Fixed bin number* discretization adjust the contrast between the two images, with the number of bins determining the coarseness of the discretized image. *Fixed bin size discretization* leaves the contrast differences between image A and B intact. Increasing the bin size increases the coarseness of the discretized image.\n",
    "\n",
    "<img src=\"https://ibsi.readthedocs.io/en/latest/_images/discretisation.png\" alt=\" discretization example\" style=\"width:500px;\"/>\n",
    "\n",
    "Read more about discretization : [Intensity discretization](https://arxiv.org/pdf/1612.07003.pdf#section.2.7)"
   ]
  },
  {
   "cell_type": "code",
   "execution_count": null,
   "id": "5817ae60",
   "metadata": {},
   "outputs": [],
   "source": [
    "from MEDimage.processing.discretisation import discretisation\n",
    "\n",
    "vol_quant_re, _ = discretisation(\n",
    "    vol_re=vol_int_re,\n",
    "    discr_type=MEDimageCR.Params['IH']['type'], \n",
    "    nQ=MEDimageCR.Params['IH']['val'], \n",
    "    user_set_min_val=MEDimageCR.Params['user_set_min_val']\n",
    ")"
   ]
  },
  {
   "cell_type": "markdown",
   "id": "f316891a",
   "metadata": {},
   "source": [
    "#### Intensity histogram features\n",
    "\n",
    "An intensity histogram is generated by discretizing the original intensity distribution into\n",
    "intensity bins."
   ]
  },
  {
   "cell_type": "code",
   "execution_count": null,
   "id": "2833f328",
   "metadata": {},
   "outputs": [],
   "source": [
    "from MEDimage.biomarkers.getIntHistFeatures import getIntHistFeatures\n",
    "\n",
    "int_hist = getIntHistFeatures(\n",
    "    vol=vol_quant_re\n",
    ")"
   ]
  },
  {
   "cell_type": "markdown",
   "id": "ac52e085",
   "metadata": {},
   "source": [
    "#### Intensity-volume histogram features\n",
    "\n",
    "The (cumulative) intensity-volume histogram (IVH) of the set of voxel intensities in the ROI\n",
    "intensity mask describes the relationship between discretized intensity and the fraction of the\n",
    "volume containing at least intensity the same intensity.\n",
    "\n",
    "IVH features computation doesn't share the same discretization parameters, so we discretize a second time using the IVH discretization parameters and the discretization interval *wd* should be provided this time."
   ]
  },
  {
   "cell_type": "code",
   "execution_count": null,
   "id": "9824f2d5",
   "metadata": {},
   "outputs": [],
   "source": [
    "if 'type' in MEDimageCR.Params['IVH'] and 'val' in MEDimageCR.Params['IVH'] and MEDimageCR.Params['IVH']:\n",
    "    vol_quant_re, wd = discretisation(\n",
    "            vol_re=vol_int_re,\n",
    "            discr_type=MEDimageCR.Params['IVH']['type'], \n",
    "            nQ=MEDimageCR.Params['IVH']['val'], \n",
    "            user_set_min_val=MEDimageCR.Params['user_set_min_val'],\n",
    "            ivh='ivh'\n",
    "    )\n",
    "else:\n",
    "    vol_quant_re = vol_int_re\n",
    "    wd = 1"
   ]
  },
  {
   "cell_type": "markdown",
   "id": "168350ea",
   "metadata": {},
   "source": [
    "Now we can extract the IVH features"
   ]
  },
  {
   "cell_type": "code",
   "execution_count": null,
   "id": "0238fc69",
   "metadata": {},
   "outputs": [],
   "source": [
    "from MEDimage.biomarkers.extract_all import extract_all\n",
    "\n",
    "IntensityVolHistogram = extract_all(\n",
    "            MEDimageProcess,\n",
    "            vol=vol_quant_re,\n",
    "            vol_int_re=vol_int_re, \n",
    "            wd=wd\n",
    ")"
   ]
  },
  {
   "cell_type": "markdown",
   "id": "10a30d06",
   "metadata": {},
   "source": [
    "#### Texture Features extraction\n",
    "\n",
    "In this section, for each text scale<sup>1</sup>, for each discretization algorithm<sup>2</sup> and for each grey level<sup>3</sup> we extract the matrix-based features using MEDimageComputeRadiomics methods : \n",
    "\n",
    "*Grey level co-occurrence based features (GLCM), grey level run length based features (GLRLM), grey level size zone matrix (GLSZM), grey level distance zone matrix (GLDZM), neighborhood grey tone difference matrix (NGTDM) and neighboring grey level dependence matrix (NGLDM).*\n",
    "\n",
    "All the processing done in this section is the same as last section, but with different parameters (For example : discretization algorithms may be different for texture features).\n",
    "\n",
    "After the computation is finished, we update the radiomics structure (update the attributes made to save the results) \n",
    "\n",
    "<sup>1</sup> For each time we resample the voxel spacing (In this case we resample the voxel spacing more than one time).\n",
    "\n",
    "<sup>2</sup> Many discretization algorithm can be given and features will be computed for each one of them.\n",
    "\n",
    "<sup>3</sup> For each discrete intensity.\n",
    "\n",
    "**PS**: For GLCM and GLRLM features, merging method may differ from configuration to another (*merged* or *averaged*). You can change the method using the keyworded argument *glcm_merge_method*, *glrlm_merge_method* in the functions *getGLCMfeatures()* and *extract_all()* respectively."
   ]
  },
  {
   "cell_type": "code",
   "execution_count": null,
   "id": "e090da0a",
   "metadata": {},
   "outputs": [],
   "source": [
    "#imports\n",
    "from MEDimage.biomarkers.getGLCMfeatures import getGLCMfeatures\n",
    "from MEDimage.biomarkers.extract_all import extract_all\n",
    "from MEDimage.biomarkers.getGLSZMfeatures import getGLSZMfeatures\n",
    "from MEDimage.biomarkers.getGLDZMfeatures import getGLDZMfeatures\n",
    "from MEDimage.biomarkers.getNGTDMfeatures import getNGTDMfeatures\n",
    "from MEDimage.biomarkers.getNGLDMfeatures import getNGLDMfeatures\n",
    "\n",
    "# Compute radiomics features for each scale text\n",
    "countText = 0\n",
    "for s in range(MEDimageCR.nScale):\n",
    "    #############################################\n",
    "    ###             INTERPOLATION              ##\n",
    "    #############################################\n",
    "    if CONFIG != 'A':\n",
    "        # Intensity Mask\n",
    "        vol_obj = interp_volume(\n",
    "            MEDimageCR,\n",
    "            vol_obj_s=volObjInit,\n",
    "            vox_dim=MEDimageCR.Params['scaleText'][s],\n",
    "            interp_met=MEDimageCR.Params['volInterp'],\n",
    "            roundVal=MEDimageCR.Params['glRound'],\n",
    "            image_type='image',\n",
    "            roiObjS=roiObjInit,\n",
    "            box_string='full'\n",
    "            )\n",
    "        # Morphological Mask:\n",
    "        roi_obj_morph = interp_volume(\n",
    "            MEDimageCR,\n",
    "            vol_obj_s=roiObjInit,\n",
    "            vox_dim=MEDimageCR.Params['scaleText'][s],\n",
    "            interp_met=MEDimageCR.Params['roiInterp'],\n",
    "            roundVal=MEDimageCR.Params['roiPV'], \n",
    "            image_type='roi', \n",
    "            roiObjS=roiObjInit,\n",
    "            box_string='full'\n",
    "            )\n",
    "\n",
    "    # ############################################\n",
    "    # ##             RE-SEGMENTATION            ##\n",
    "    # ############################################\n",
    "    # Intensity mask creation:\n",
    "    roi_obj_int = deepcopy(roi_obj_morph)\n",
    "\n",
    "    roi_obj_int.data = range_re_seg(\n",
    "        vol=vol_obj.data, \n",
    "        roi=roi_obj_int.data,\n",
    "        im_range=MEDimageCR.Params['im_range']\n",
    "    )\n",
    "    # Outlier Re-Segmentation:\n",
    "    roi_obj_int.data = np.logical_and( \n",
    "        outlier_re_seg(vol=vol_obj.data, roi=roi_obj_int.data, outliers=MEDimageCR.Params['outliers']),\n",
    "        roi_obj_int.data\n",
    "    ).astype(int)\n",
    "\n",
    "    # Compute features for each Discretisation Algorithm and for each number of grey-level  \n",
    "    for a, n in product(range(MEDimageCR.nAlgo), range(MEDimageCR.nGl)):\n",
    "        countText = countText + 1\n",
    "\n",
    "        # Preparation of computation :\n",
    "        MEDimageCR.init_tf_calculation(Algo=a, Gl=n, Scale=s)\n",
    "\n",
    "        # ROI Extraction :\n",
    "        vol_int_re = roi_extract(\n",
    "            vol=vol_obj.data, \n",
    "            roi=roi_obj_int.data)\n",
    "\n",
    "        # Discretisation :\n",
    "        vol_quant_re, _ = discretisation(\n",
    "            vol_re=vol_int_re,\n",
    "            discr_type=MEDimageCR.Params['algo'][a], \n",
    "            nQ=MEDimageCR.Params['grayLevels'][a][n], \n",
    "            user_set_min_val=MEDimageCR.Params['user_set_min_val']\n",
    "            )\n",
    "\n",
    "        #***************************************************************\n",
    "        #**              CALCULATION OF GLCM FEATURES                 **\n",
    "        #***************************************************************\n",
    "        GLCM = getGLCMfeatures(\n",
    "            vol=vol_quant_re, \n",
    "            distCorrection=MEDimageCR.Params['radiomics']['imParam']['image']['glcm']['distCorrection'])\n",
    "\n",
    "        #***************************************************************\n",
    "        #**              CALCULATION OF GLRLM FEATURES                **\n",
    "        #***************************************************************\n",
    "        GLRLM = extract_all(\n",
    "            vol=vol_quant_re, \n",
    "            distCorrection=MEDimageCR.Params['radiomics']['imParam']['image']['extract_all']['distCorrection'])\n",
    "\n",
    "        #***************************************************************\n",
    "        #**              CALCULATION OF GLSZM FEATURES                **\n",
    "        #***************************************************************\n",
    "        GLSZM = getGLSZMfeatures(\n",
    "            vol=vol_quant_re)\n",
    "\n",
    "        #***************************************************************\n",
    "        #**              CALCULATION OF GLDZM FEATURES                **\n",
    "        #***************************************************************\n",
    "        GLDZM = getGLDZMfeatures(\n",
    "            volInt=vol_quant_re, \n",
    "            mask_morph=roi_obj_morph.data)\n",
    "\n",
    "        #***************************************************************\n",
    "        #**              CALCULATION OF NGTDM FEATURES                **\n",
    "        #***************************************************************\n",
    "        NGTDM = getNGTDMfeatures(\n",
    "            vol=vol_quant_re, \n",
    "            distCorrection=MEDimageCR.Params['radiomics']['imParam']['image']['ngtdm']['distCorrection'])\n",
    "\n",
    "        #***************************************************************\n",
    "        #**              CALCULATION OF NGLDM FEATURES                **\n",
    "        #***************************************************************\n",
    "        NGLDM = getNGLDMfeatures(\n",
    "            vol=vol_quant_re)\n",
    "\n",
    "        # *****************************************************************************************************\n",
    "        # ****  Updating radiomics structure for each Discretisation Algorithm and number of grey-level    ****\n",
    "        # *****************************************************************************************************\n",
    "        MEDimageCR.update_radiomics(int_vol_hist=IntensityVolHistogram, morph=MORPH,\n",
    "                local_intensity=LocalIntensity, stats=Stats, int_hist=int_hist,\n",
    "                glcm=GLCM, glrlm=GLRLM, glszm=GLSZM, gldzm=GLDZM, \n",
    "                ngtdm=NGTDM, ngldm=NGLDM)"
   ]
  },
  {
   "cell_type": "markdown",
   "id": "d1981d88",
   "metadata": {},
   "source": [
    "Finally we print the results"
   ]
  },
  {
   "cell_type": "code",
   "execution_count": null,
   "id": "5df4fc22",
   "metadata": {
    "scrolled": false
   },
   "outputs": [],
   "source": [
    "print(dumps(MEDimageCR.Params['radiomics']['image'], indent=4, cls=NumpyEncoder))"
   ]
  },
  {
   "cell_type": "markdown",
   "id": "79f171f4",
   "metadata": {},
   "source": [
    "Run this cell to save the results in JSON format on your machine"
   ]
  },
  {
   "cell_type": "code",
   "execution_count": null,
   "id": "e52b9d4f",
   "metadata": {
    "scrolled": false
   },
   "outputs": [],
   "source": [
    "#pathResults = __getPathResults() # Path to where the results are gonna be saved\n",
    "#save_results(MEDimageCR, CONFIG, pathResults)"
   ]
  }
 ],
 "metadata": {
  "kernelspec": {
   "display_name": "medomics",
   "language": "python",
   "name": "medomics"
  },
  "language_info": {
   "codemirror_mode": {
    "name": "ipython",
    "version": 3
   },
   "file_extension": ".py",
   "mimetype": "text/x-python",
   "name": "python",
   "nbconvert_exporter": "python",
   "pygments_lexer": "ipython3",
   "version": "3.8.10"
  }
 },
 "nbformat": 4,
 "nbformat_minor": 5
}
