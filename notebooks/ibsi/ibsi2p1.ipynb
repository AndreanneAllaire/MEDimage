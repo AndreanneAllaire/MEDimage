{
 "cells": [
  {
   "cell_type": "markdown",
   "id": "ecdbaa79",
   "metadata": {},
   "source": [
    "## IBSI Chapter 2 Phase 1 − Image filtering\n",
    "\n",
    "@Author : [MEDomics consortium](https://github.com/medomics/)\n",
    "\n",
    "@EMAIL : medomics.info@gmail.com\n",
    "\n",
    "@REF : [IBSI 2](https://www.overleaf.com/read/hwhjswzkhwdh)"
   ]
  },
  {
   "cell_type": "markdown",
   "id": "05880d2d",
   "metadata": {},
   "source": [
    "**STATEMENT**:\n",
    "This file is part of <https://github.com/MEDomics/MEDomicsLab/>,\n",
    "a package providing PYTHON programming tools for radiomics analysis.\n",
    "--> Copyright (C) MEDomicsLab consortium.\n",
    "\n",
    "This package is free software: you can redistribute it and/or modify\n",
    "it under the terms of the GNU General Public License as published by\n",
    "the Free Software Foundation, either version 3 of the License, or\n",
    "(at your option) any later version.\n",
    "\n",
    "This package is distributed in the hope that it will be useful,\n",
    "but WITHOUT ANY WARRANTY; without even the implied warranty of\n",
    "MERCHANTABILITY or FITNESS FOR A PARTICULAR PURPOSE.  See the\n",
    "GNU General Public License for more details.\n",
    "\n",
    "You should have received a copy of the GNU General Public License\n",
    "along with this package.  If not, see <http://www.gnu.org/licenses/>."
   ]
  },
  {
   "cell_type": "markdown",
   "id": "0df4a1e2",
   "metadata": {},
   "source": [
    "**Acknowledgement**: Most of the code used for this phase was written by [Alexandre Ayotte](https://github.com/AleAyotte) and modified by the authors of this Notebook."
   ]
  },
  {
   "cell_type": "markdown",
   "id": "1d413a4d",
   "metadata": {},
   "source": [
    "### Introduction\n",
    "\n",
    "We recommend to take a look at the [MEDimage-tutorial notebook]() and the [DataManager-tutorial]() before exploring this one.\n",
    "\n",
    "The aim of this chapter and this phase is benchmarking the filters using the phantom images is to arrive at a standard implementation. We apply filter to the phantoms to create a response maps with the same dimensions as the phantoms (64 × 64 × 64 voxels). Filters need to be applied using the settings provided in [IBSI 2 benchmarking 5.1 Table 5.1](https://www.overleaf.com/read/hwhjswzkhwdh). In this notebook we implemented 28 different settings/tests from ***1a1*** to ***7a2***."
   ]
  },
  {
   "cell_type": "markdown",
   "id": "f7e50565",
   "metadata": {},
   "source": [
    "### Dataset - Digital phantoms\n",
    "The IBSI developed several 3D phantoms to test image filter implementations. All phantoms (but the orientation phantom) have the same dimension and consist of 64 × 64 × 64 isotropic voxels with 2.0 by 2.0 by 2.0 mm spacing. 8-bit voxel intensities in all phantoms fall in the range [0, 255]. The phantoms are stored in the NIfTI format. The digital phantoms can be found here: [ibsi_2_digital_phantoms](https://github.com/theibsi/data_sets/tree/master/ibsi_2_digital_phantom).\n",
    "\n",
    "The phantoms are shown in the figure below:\n",
    "\n",
    "<img src=\"https://github.com/MahdiAll99/MEDimage/blob/main/IBSI-TESTs/images/ibsi2-p1-phantoms.png?raw=true\" alt=\"Flowchart of radiomics study\" style=\"width:500px;\"/>\n",
    "\n",
    "Every phantom has a goal to test a specific implementation. More details can be found in the [IBSI 2 section 5.1](https://www.overleaf.com/read/hwhjswzkhwdh)"
   ]
  },
  {
   "cell_type": "markdown",
   "id": "1bbb2af7",
   "metadata": {},
   "source": [
    "### License\n",
    "\n",
    "The phantom is licensed under the Creative Commons Attribution-NonCommercial 3.0 Unported Licence. To view a copy of this license, visit https://creativecommons.org/licenses/by-nc/3.0/ or send a letter to Creative Commons, PO Box 1866, Mount View, CA 94042, USA."
   ]
  },
  {
   "cell_type": "markdown",
   "id": "fb1ee2c8",
   "metadata": {},
   "source": [
    "### Initialization\n",
    "\n",
    "In this chapter and phase we will not need any class and we will use the *MEDimage* package modules directly, especially the module ``filter`` which offers methods for image filtering. We recommend you download the data from [here](https://github.com/theibsi/data_sets/tree/master/ibsi_2_digital_phantom/nifti) and organize your folder as follows:\n",
    "\n",
    "<img src=\"images/ibsi2-p1-folder-structure.png\"/>\n"
   ]
  },
  {
   "cell_type": "code",
   "execution_count": 1,
   "id": "27c54241",
   "metadata": {},
   "outputs": [],
   "source": [
    "import math\n",
    "import os\n",
    "import pickle\n",
    "import sys\n",
    "from copy import deepcopy\n",
    "from itertools import product\n",
    "from json import dump, dumps\n",
    "from pathlib import Path\n",
    "\n",
    "import matplotlib.pyplot as plt\n",
    "import nibabel as nib\n",
    "import numpy as np\n",
    "from matplotlib.cm import ScalarMappable\n",
    "from matplotlib.colors import Normalize\n",
    "\n",
    "MODULE_DIR = os.path.dirname(os.path.abspath('../MEDimage/'))\n",
    "sys.path.append(os.path.dirname(MODULE_DIR))\n",
    "\n",
    "import MEDimage\n",
    "import numpy as np\n",
    "from numpyencoder import NumpyEncoder"
   ]
  },
  {
   "cell_type": "markdown",
   "id": "cb11c5ea",
   "metadata": {},
   "source": [
    "### Configuration\n",
    "\n",
    "Most important part of the code is to chose what test will be executed. The figure below shows the different tests possible: \n",
    "\n",
    "*1a1, 1a2, 1a3...*."
   ]
  },
  {
   "cell_type": "code",
   "execution_count": 2,
   "id": "2f7b501b",
   "metadata": {},
   "outputs": [],
   "source": [
    "test_id = '7a1' # test ID. More details about tests can be found in the IBSI chapter 2 reference"
   ]
  },
  {
   "cell_type": "markdown",
   "id": "2836a143",
   "metadata": {},
   "source": [
    "<div>\n",
    "    <img src=\"https://github.com/MahdiAll99/MEDimage/blob/main/IBSI-TESTs/images/ibsi2-p1-testids1.png?raw=true\" width=\"500\"/>  \n",
    "</div>"
   ]
  },
  {
   "cell_type": "markdown",
   "id": "d9561a03",
   "metadata": {},
   "source": [
    "<div>\n",
    "    <img src=\"https://github.com/MahdiAll99/MEDimage/blob/main/IBSI-TESTs/images/ibsi2-p1-testids2.png?raw=true\" width=\"500\"/>  \n",
    "</div>"
   ]
  },
  {
   "cell_type": "markdown",
   "id": "87888760",
   "metadata": {},
   "source": [
    "<div>\n",
    "    <img src=\"https://github.com/MahdiAll99/MEDimage/blob/main/IBSI-TESTs/images/ibsi2-p1-testids3.png?raw=true\" width=\"500\"/>  \n",
    "</div>"
   ]
  },
  {
   "cell_type": "markdown",
   "id": "4c7dc8d0",
   "metadata": {},
   "source": [
    "<div>\n",
    "    <img src=\"https://github.com/MahdiAll99/MEDimage/blob/main/IBSI-TESTs/images/ibsi2-p1-testids4.png?raw=true\" width=\"500\"/>  \n",
    "</div>"
   ]
  },
  {
   "cell_type": "markdown",
   "id": "fff06781",
   "metadata": {},
   "source": [
    "Refer to the [IBSI 2 section 5.1](https://www.overleaf.com/project/5da9e0b82f399f0001ad3970) for more details."
   ]
  },
  {
   "cell_type": "code",
   "execution_count": 3,
   "id": "ee44448e",
   "metadata": {},
   "outputs": [],
   "source": [
    "def get_input(image_name, repertory=\"data/Filters\"):\n",
    "    \"\"\"\n",
    "    Import the nii image and cast it into numpy nd-array.\n",
    "    :param image_name: The image name without the extension.\n",
    "    :param repertory: The image repertory (Options: Data. Result_Alex)\n",
    "    :return: a numpy nd-array of shape (B, W, H, D) with value between 0 and 1.\n",
    "    \"\"\"\n",
    "\n",
    "    example_filename = os.path.join(\n",
    "        repertory, image_name + '.nii'\n",
    "    )\n",
    "    try:\n",
    "        complete_data = nib.load(example_filename)\n",
    "    except:\n",
    "        complete_data = nib.load(example_filename+'.gz')\n",
    "\n",
    "    complete_data.set_data_dtype(np.float64)\n",
    "\n",
    "    return np.expand_dims(np.array(complete_data.dataobj), axis=0).astype(np.float32), complete_data"
   ]
  },
  {
   "cell_type": "code",
   "execution_count": 4,
   "id": "61fcb2c0",
   "metadata": {},
   "outputs": [],
   "source": [
    "def plot_comparison(result, _slice, test_id, filter_name):\n",
    "    \"\"\"\n",
    "    Plot the coronal, axial and sagittal slices of the ground truth, the result and their squared error\n",
    "    :param result: The result obtained by the program.\n",
    "    :param ground_truth: The result obtained by Alexandre Ayotte\n",
    "    :param _slice: Which slice will be plotted along each axis.\n",
    "    \"\"\"\n",
    "\n",
    "    fig = plt.figure(figsize=(12, 12))\n",
    "    fig.canvas.manager.set_window_title('Phase1_ID' + test_id)\n",
    "    \n",
    "    vmin = np.min(result)\n",
    "    vmax = np.max(result)\n",
    "\n",
    "    fig.suptitle(f'Filter used : {filter_name}.\\nResult\\'s min : {vmin} Result\\'s max : {vmax}',\n",
    "                fontsize=16)\n",
    "\n",
    "    fig.add_subplot(1, 3, 1, ylabel=\"Result\")\n",
    "    plt.imshow(result[0, :, :, _slice])\n",
    "\n",
    "    fig.add_subplot(1, 3, 2)\n",
    "    plt.imshow(result[0, :, _slice, :])\n",
    "\n",
    "    fig.add_subplot(1, 3, 3)\n",
    "    plt.imshow(result[0, _slice, :, :])\n",
    "    \n",
    "    # color settings\n",
    "    norm = Normalize(vmin=vmin, vmax=vmax)\n",
    "    colorbar = ScalarMappable(norm=norm)\n",
    "\n",
    "    fig.subplots_adjust(right=0.8)\n",
    "    cbar_ax = fig.add_axes([0.85, 0.15, 0.05, 0.7])\n",
    "    fig.colorbar(colorbar, cax=cbar_ax)\n",
    "\n",
    "    plt.show()"
   ]
  },
  {
   "cell_type": "markdown",
   "id": "1cf2047b",
   "metadata": {},
   "source": [
    "### Initialization\n",
    "\n",
    "As mentioned in the dataset section, all phantoms have the same voxel spacing of 2 so it's gonna be our voxel length and will be used to compute the kernel size for some filter."
   ]
  },
  {
   "cell_type": "code",
   "execution_count": 5,
   "id": "451e4c6c",
   "metadata": {},
   "outputs": [],
   "source": [
    "VOLEX_LENGTH = 2"
   ]
  },
  {
   "cell_type": "markdown",
   "id": "762888ca",
   "metadata": {},
   "source": [
    "### Image processing\n",
    "\n",
    "The only processing done in this phase is image filtering."
   ]
  },
  {
   "cell_type": "markdown",
   "id": "688e26ea",
   "metadata": {},
   "source": [
    "#### Image filtering\n",
    "\n",
    "The filtering is done in three steps :\n",
    "- Get the digital phantom from the dataset folder using the digital phantom name (Ex: checkerboard, response...) and convert the data type to float64 (or at least float32)\n",
    "- Create an instance of the filter class\n",
    "- Run the convolution using the instance.\n",
    "\n",
    "The parameters are already defined for each test (check figures above) and if the *test_id* does not match any of the cases below an error will be raised."
   ]
  },
  {
   "cell_type": "markdown",
   "id": "dfd0ee04",
   "metadata": {},
   "source": [
    "Check cells above to set the *test_id* and to view all the test IDs and their configuration."
   ]
  },
  {
   "cell_type": "code",
   "execution_count": 6,
   "id": "6f1cbc1c",
   "metadata": {},
   "outputs": [],
   "source": [
    "from MEDimage.filter.MEDimageFilter import *\n",
    "\n",
    "\n",
    "if test_id == \"1a1\":\n",
    "    _in, complete_data = get_input(\"checkerboard\")\n",
    "    _filter = Mean(3, 15, padding=\"constant\")\n",
    "    result = _filter.convolve(_in)\n",
    "    filter_name = \"Mean\"\n",
    "\n",
    "elif test_id == \"1a2\":\n",
    "    _in, complete_data = get_input(\"checkerboard\")\n",
    "    _filter = Mean(3, 15, padding=\"edge\")\n",
    "    result = _filter.convolve(_in)\n",
    "    filter_name = \"Mean\"\n",
    "\n",
    "elif test_id == \"1a3\":\n",
    "    _in, complete_data = get_input(\"checkerboard\")\n",
    "    _filter = Mean(3, 15, padding=\"wrap\")\n",
    "    result = _filter.convolve(_in)\n",
    "    filter_name = \"Mean\"\n",
    "\n",
    "elif test_id == \"1a4\":\n",
    "    _in, complete_data = get_input(\"checkerboard\")\n",
    "    _filter = Mean(3, 15, padding=\"symmetric\")\n",
    "    result = _filter.convolve(_in)\n",
    "    filter_name = \"Mean\"\n",
    "\n",
    "elif test_id == \"1b1\":\n",
    "    _in, complete_data = get_input(\"response\")\n",
    "    _filter = Mean(2, 15, padding=\"constant\")\n",
    "    result = _filter.convolve(_in)\n",
    "    filter_name = \"Mean\"\n",
    "\n",
    "elif test_id == \"2a\":\n",
    "    _in, complete_data = get_input(\"response\")\n",
    "    sigma = 3 / VOLEX_LENGTH\n",
    "    length = 2 * int(4 * sigma + 0.5) + 1\n",
    "    _filter = LaplacianOfGaussian(3, length, sigma=sigma, padding=\"constant\")\n",
    "    result = _filter.convolve(_in)\n",
    "    filter_name = \"LaplacianOfGaussian\"\n",
    "\n",
    "elif test_id == \"2b\":\n",
    "    _in, complete_data = get_input(\"checkerboard\")\n",
    "    sigma = 5 / VOLEX_LENGTH\n",
    "    length = 2 * int(4 * sigma + 0.5) + 1\n",
    "    _filter = LaplacianOfGaussian(3, length, sigma=sigma, padding=\"symmetric\")\n",
    "    result = _filter.convolve(_in)\n",
    "    filter_name = \"LaplacianOfGaussian\"\n",
    "\n",
    "elif test_id == \"2c\":\n",
    "    _in, complete_data = get_input(\"checkerboard\")\n",
    "    sigma = 5 / VOLEX_LENGTH\n",
    "    length = 2 * int(4 * sigma + 0.5) + 1\n",
    "    _filter = LaplacianOfGaussian(2, length, sigma=sigma, padding=\"symmetric\")\n",
    "    result = _filter.convolve(_in)\n",
    "    filter_name = \"LaplacianOfGaussian\"\n",
    "\n",
    "elif test_id == \"3a1\":\n",
    "    _in, complete_data = get_input(\"response\")\n",
    "    _filter = Laws([\"E5\", \"L5\", \"S5\"], padding=\"constant\", rot_invariance=False)\n",
    "    result = _filter.convolve(_in, energy_image=False)\n",
    "    filter_name = \"Laws\"\n",
    "\n",
    "elif test_id == \"3a2\":\n",
    "    _in, complete_data = get_input(\"response\")\n",
    "    _filter = Laws([\"E5\", \"L5\", \"S5\"], padding=\"constant\", rot_invariance=True)\n",
    "    result = _filter.convolve(_in, energy_image=False)\n",
    "    filter_name = \"Laws\"\n",
    "\n",
    "elif test_id == \"3a3\":\n",
    "    _in, complete_data = get_input(\"response\")\n",
    "    _filter = Laws([\"E5\", \"L5\", \"S5\"], padding=\"constant\", rot_invariance=True)\n",
    "    _, result = _filter.convolve(_in, energy_image=True)\n",
    "    filter_name = \"Laws\"\n",
    "\n",
    "elif test_id == \"3b1\":\n",
    "    _in, complete_data = get_input(\"checkerboard\")\n",
    "    _filter = Laws([\"E3\", \"W5\", \"R5\"], padding=\"symmetric\", rot_invariance=False)\n",
    "    result = _filter.convolve(_in, energy_image=False)\n",
    "    filter_name = \"Laws\"\n",
    "\n",
    "elif test_id == \"3b2\":\n",
    "    _in, complete_data = get_input(\"checkerboard\")\n",
    "    _filter = Laws([\"E3\", \"W5\", \"R5\"], padding=\"symmetric\", rot_invariance=True)\n",
    "    result = _filter.convolve(_in, energy_image=False)\n",
    "    filter_name = \"Laws\"\n",
    "\n",
    "elif test_id == \"3b3\":\n",
    "    _in, complete_data = get_input(\"checkerboard\")\n",
    "    _filter = Laws([\"E3\", \"W5\", \"R5\"], padding=\"symmetric\", rot_invariance=True)\n",
    "    _, result = _filter.convolve(_in, energy_image=True)\n",
    "    filter_name = \"Laws\"\n",
    "\n",
    "elif test_id == \"3c1\":\n",
    "    _in, complete_data = get_input(\"checkerboard\")\n",
    "    _filter = Laws([\"L5\", \"S5\"], padding=\"symmetric\", rot_invariance=False)\n",
    "    result = _filter.convolve(_in, energy_image=False)\n",
    "    filter_name = \"Laws\"\n",
    "\n",
    "elif test_id == \"3c2\":\n",
    "    _in, complete_data = get_input(\"checkerboard\")\n",
    "    _filter = Laws([\"L5\", \"S5\"], padding=\"symmetric\", rot_invariance=True)\n",
    "    result = _filter.convolve(_in, energy_image=False)\n",
    "    filter_name = \"Laws\"\n",
    "\n",
    "elif test_id == \"3c3\":\n",
    "    _in, complete_data = get_input(\"checkerboard\")\n",
    "    _filter = Laws([\"L5\", \"S5\"], padding=\"symmetric\", rot_invariance=True)\n",
    "    _, result = _filter.convolve(_in, energy_image=True)\n",
    "    filter_name = \"Laws\"\n",
    "\n",
    "elif test_id == \"4a1\":\n",
    "    _in, complete_data = get_input(\"response\")\n",
    "    sigma = 10 / VOLEX_LENGTH\n",
    "    lamb = 4 / VOLEX_LENGTH\n",
    "    size = 2 * int(7 * sigma + 0.5) + 1\n",
    "    _filter = Gabor(size=size, sigma=sigma, lamb=lamb,\n",
    "                    gamma=0.5, theta=-math.pi/3,\n",
    "                    rot_invariance=False,\n",
    "                    padding=\"constant\"\n",
    "                    )\n",
    "    result = _filter.convolve(_in, False)\n",
    "    filter_name = \"Gabor\"\n",
    "\n",
    "elif test_id == \"4a2\":\n",
    "    _in, complete_data = get_input(\"response\")\n",
    "    sigma = 10 / VOLEX_LENGTH\n",
    "    lamb = 4 / VOLEX_LENGTH\n",
    "    size = 2 * int(7 * sigma + 0.5) + 1\n",
    "    _filter = Gabor(size=size, sigma=sigma, lamb=lamb,\n",
    "                    gamma=0.5, theta=-math.pi/4,\n",
    "                    rot_invariance=True,\n",
    "                    padding=\"constant\"\n",
    "                    )\n",
    "    result = _filter.convolve(_in, True)\n",
    "    filter_name = \"Gabor\"\n",
    "\n",
    "elif test_id == \"4b1\":\n",
    "    _in, complete_data = get_input(\"sphere\")\n",
    "    sigma = 20 / VOLEX_LENGTH\n",
    "    lamb = 8 / VOLEX_LENGTH\n",
    "    size = 2 * int(7 * sigma + 0.5) + 1\n",
    "    _filter = Gabor(size=size, sigma=sigma, lamb=lamb,\n",
    "                    gamma=2.5, theta=-5*math.pi/4,\n",
    "                    rot_invariance=False,\n",
    "                    padding=\"symmetric\"\n",
    "                    )\n",
    "    result = _filter.convolve(_in, False)\n",
    "    filter_name = \"Gabor\"\n",
    "\n",
    "elif test_id == \"4b2\":\n",
    "    _in, complete_data = get_input(\"sphere\")\n",
    "    sigma = 20 / VOLEX_LENGTH\n",
    "    lamb = 8 / VOLEX_LENGTH\n",
    "    size = 2 * int(7 * sigma + 0.5) + 1\n",
    "    _filter = Gabor(size=size, sigma=sigma, lamb=lamb,\n",
    "                    gamma=2.5, theta=-math.pi/8,\n",
    "                    rot_invariance=True,\n",
    "                    padding=\"symmetric\"\n",
    "                    )\n",
    "    result = _filter.convolve(_in, True)\n",
    "    filter_name = \"Gabor\"\n",
    "\n",
    "elif test_id == \"5a1\":\n",
    "    _in, complete_data = get_input(\"response\")\n",
    "    _filter = Wavelet(ndims=3, wavelet_name=\"db2\",\n",
    "                      rot_invariance=False,\n",
    "                      padding=\"constant\"\n",
    "                      )\n",
    "    result = _filter.convolve(_in, _filter=\"LHL\", level=1)\n",
    "    filter_name = \"Wavelet_LHL_db2\"\n",
    "\n",
    "elif test_id == \"5a2\":\n",
    "    _in, complete_data = get_input(\"response\")\n",
    "    _filter = Wavelet(ndims=3, wavelet_name=\"db2\",\n",
    "                      rot_invariance=True,\n",
    "                      padding=\"constant\"\n",
    "                      )\n",
    "    result = _filter.convolve(_in, _filter=\"LHL\", level=1)\n",
    "    filter_name = \"Wavelet_LHL_db2\"\n",
    "\n",
    "elif test_id == \"6a1\":\n",
    "    _in, complete_data = get_input(\"sphere\")\n",
    "    _filter = Wavelet(ndims=3, wavelet_name=\"coif1\",\n",
    "                      rot_invariance=False,\n",
    "                      padding=\"wrap\"\n",
    "                      )\n",
    "    result = _filter.convolve(_in, _filter=\"HHL\", level=1)\n",
    "    filter_name = \"Wavelet_HHL_coif1\"\n",
    "\n",
    "elif test_id == \"6a2\":\n",
    "    _in, complete_data = get_input(\"sphere\")\n",
    "    _filter = Wavelet(ndims=3, wavelet_name=\"coif1\",\n",
    "                      rot_invariance=True,\n",
    "                      padding=\"wrap\"\n",
    "                      )\n",
    "    result = _filter.convolve(_in, _filter=\"HHL\", level=1)\n",
    "    filter_name = \"Wavelet_coif1\"\n",
    "\n",
    "elif test_id == \"7a1\":\n",
    "    _in, complete_data = get_input(\"checkerboard\")\n",
    "    _filter = Wavelet(ndims=3, wavelet_name=\"haar\",\n",
    "                      rot_invariance=True,\n",
    "                      padding=\"symmetric\"\n",
    "                      )\n",
    "    result = _filter.convolve(_in, _filter=\"LLL\", level=2)\n",
    "    filter_name = \"Wavelet_LLL_haar\"\n",
    "\n",
    "elif test_id == \"7a2\":\n",
    "    _in, complete_data = get_input(\"checkerboard\")\n",
    "    _filter = Wavelet(ndims=3, wavelet_name=\"haar\",\n",
    "                      rot_invariance=True,\n",
    "                      padding=\"symmetric\"\n",
    "                      )\n",
    "    result = _filter.convolve(_in, _filter=\"HHH\", level=2)\n",
    "    filter_name = \"Wavelet_HHH_haar\"\n",
    "else:\n",
    "    raise NotImplementedError\n"
   ]
  },
  {
   "cell_type": "markdown",
   "id": "2436c280",
   "metadata": {},
   "source": [
    "Finally we print the results max and min for comparison and we plot the final results with the ground truth (if there is one)."
   ]
  },
  {
   "cell_type": "code",
   "execution_count": 7,
   "id": "e358a45b",
   "metadata": {
    "scrolled": false
   },
   "outputs": [
    {
     "data": {
      "image/png": "[encoded data removed]",
      "text/plain": [
       "<Figure size 864x864 with 4 Axes>"
      ]
     },
     "metadata": {
      "needs_background": "light"
     },
     "output_type": "display_data"
    }
   ],
   "source": [
    "plot_comparison(result, \n",
    "                _slice=31, \n",
    "                test_id=test_id, \n",
    "                filter_name=filter_name)"
   ]
  }
 ],
 "metadata": {
  "kernelspec": {
   "display_name": "medomics",
   "language": "python",
   "name": "medomics"
  },
  "language_info": {
   "codemirror_mode": {
    "name": "ipython",
    "version": 3
   },
   "file_extension": ".py",
   "mimetype": "text/x-python",
   "name": "python",
   "nbconvert_exporter": "python",
   "pygments_lexer": "ipython3",
   "version": "3.8.10"
  }
 },
 "nbformat": 4,
 "nbformat_minor": 5
}
