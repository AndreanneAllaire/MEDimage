{
 "cells": [
  {
   "cell_type": "markdown",
   "id": "41675a28",
   "metadata": {},
   "source": [
    "## IBSI Chapter 1 Phase 1 − Radiomic Computations\n",
    "\n",
    "@Author : [MEDomics consortium](https://github.com/medomics/)\n",
    "\n",
    "@EMAIL : medomics.info@gmail.com\n",
    "\n",
    "@REF : [IBSI 1](https://arxiv.org/pdf/1612.07003.pdf)"
   ]
  },
  {
   "cell_type": "markdown",
   "id": "c9ef6a2c",
   "metadata": {},
   "source": [
    "**STATEMENT**:\n",
    "This file is part of <https://github.com/MEDomics/MEDomicsLab/>,\n",
    "a package providing PYTHON programming tools for radiomics analysis.\n",
    "--> Copyright (C) MEDomicsLab consortium.\n",
    "\n",
    "This package is free software: you can redistribute it and/or modify\n",
    "it under the terms of the GNU General Public License as published by\n",
    "the Free Software Foundation, either version 3 of the License, or\n",
    "(at your option) any later version.\n",
    "\n",
    "This package is distributed in the hope that it will be useful,\n",
    "but WITHOUT ANY WARRANTY; without even the implied warranty of\n",
    "MERCHANTABILITY or FITNESS FOR A PARTICULAR PURPOSE.  See the\n",
    "GNU General Public License for more details.\n",
    "\n",
    "You should have received a copy of the GNU General Public License\n",
    "along with this package.  If not, see <http://www.gnu.org/licenses/>."
   ]
  },
  {
   "cell_type": "markdown",
   "id": "ffac73c3",
   "metadata": {},
   "source": [
    "### Introduction\n",
    "\n",
    "\n",
    "We recommend to take a look at the [MEDimage-tutorial notebook]() and the [DataManager-tutorial]() before exploring this one.\n",
    "\n",
    "In this notebook we treat the first phase of standardization of image processing and feature computation. In the figure below, we focus on the first part referred as phase 1. We only compute radiomics features from a digital phantom without any processing\n",
    "\n",
    "<img src=\"https://www.researchgate.net/profile/Emiliano-Spezi/publication/339835844/figure/fig1/AS:867857227337731@1583924695905/Flowchart-of-study-overview-The-workflow-in-a-typical-radiomics-analysis-starts-with.ppm\" alt=\"Flowchart of radiomics study\" style=\"width:500px;\"/>"
   ]
  },
  {
   "cell_type": "markdown",
   "id": "93d06dd8",
   "metadata": {},
   "source": [
    "### Dataset - Digital phantom\n",
    "In this chapter and in this phase, reference values for features were obtained using a digital image phantom, which is described below. The digital phantom can be found here: https://github.com/theibsi/data_sets/tree/master/ibsi_1_digital_phantom"
   ]
  },
  {
   "cell_type": "markdown",
   "id": "16b5081d",
   "metadata": {},
   "source": [
    "- The phantom consists of 5 × 4 × 4 (x, y, z) voxels.\n",
    "- A slice consists of the voxels in (x, y) plane for a particular slice at position z. Slices are therefore stacked in the z direction.\n",
    "- Voxels are 2.0 × 2.0 × 2.0 mm in size.\n",
    "- Not all voxels are included in the region of interest. Several excluded voxels are located on the outside of the ROI, and one internal voxel was excluded as well. Voxels excluded from the ROI are shown in blue in figure below.\n",
    "- Some intensities are not present in the phantom. Notably, grey levels 2 and 5 are absent. 1 is the lowest grey level present in the ROI and 6 the highest."
   ]
  },
  {
   "cell_type": "markdown",
   "id": "3ed0b1bb",
   "metadata": {},
   "source": [
    "<img src=\"https://www.researchgate.net/profile/Alex-Zwanenburg/publication/311805734/figure/fig4/AS:867063404965890@1583735433294/Exploded-view-of-the-test-volume-The-number-in-each-voxel-corresponds-with-its-grey.png\" alt=\"IBSI 1 Phase 1 Digital Phantom\" style=\"width:400px;\"/>"
   ]
  },
  {
   "cell_type": "code",
   "execution_count": null,
   "id": "98c17c3c",
   "metadata": {},
   "outputs": [],
   "source": [
    "import os\n",
    "import sys\n",
    "\n",
    "MODULE_DIR = os.path.dirname(os.path.abspath('../MEDimage/'))\n",
    "sys.path.append(os.path.dirname(MODULE_DIR))\n",
    "\n",
    "from copy import deepcopy\n",
    "from pathlib import Path\n",
    "\n",
    "import MEDimage"
   ]
  },
  {
   "cell_type": "markdown",
   "id": "1cf2047b",
   "metadata": {},
   "source": [
    "### Classes initialization\n",
    "In the IBSI scripts we are going to use the *MEDimage* class and other processing classes like *DataManager* to process the iamging data and to extract the radiomics features.\n",
    "- ``MEDimage``: Is a Python class that organizes all scan data and many other useful information that is used by the many processing and computing methods. Learn more in the [MEDimage-tutorial]()\n",
    "- ``DataManager``: A Python class that process all the raw data (DICOM and NIfTI) and convert it to *MEDimage* class objects. Learn more in the [DataManager-tutorial]()\n",
    "\n",
    "So the first step is to initialize the MEDimage class using the *DataManager*. This class will only need path to where the data is located (either DICOM or NIfTI). We will use NIfTI for this tutorial."
   ]
  },
  {
   "cell_type": "markdown",
   "id": "e79831d7",
   "metadata": {},
   "source": [
    "Make sure your folder structure looks like this:\n",
    "\n",
    "<img src=\"images/ibsi1-p1-folder-structure.png\"/>\n",
    "\n",
    "Make sure to also download the [Phantom data](https://github.com/theibsi/data_sets/tree/master/ibsi_1_digital_phantom/dicom) (we recommend you use NIfTI files) and place it in Phantom folder. The settings file can be found in the repository and is automatically place in the settings folder."
   ]
  },
  {
   "cell_type": "markdown",
   "id": "a95e5e20",
   "metadata": {},
   "source": [
    "We now start by initializing our assets (paths, variables...)"
   ]
  },
  {
   "cell_type": "code",
   "execution_count": null,
   "id": "2afa7d92",
   "metadata": {},
   "outputs": [],
   "source": [
    "path_settings = Path(os.getcwd()) / \"settings\" # Path to the script settings/configuration folder\n",
    "# Load script parameters\n",
    "im_params = MEDimage.utils.json_utils.load_json(path_settings / 'Phase1_settings.json')"
   ]
  },
  {
   "cell_type": "markdown",
   "id": "fb722b3b",
   "metadata": {},
   "source": [
    "Then we'll initialize the ``DataManager`` class and run NIfTIs processing"
   ]
  },
  {
   "cell_type": "code",
   "execution_count": null,
   "id": "c7ae2418",
   "metadata": {
    "scrolled": false
   },
   "outputs": [],
   "source": [
    "# Intialize the DataManager class\n",
    "path_to_niftis = Path(os.getcwd()) / \"data\" / \"Phantom\"\n",
    "dm = MEDimage.wrangling.DataManager(path_to_niftis=path_to_niftis)\n",
    "\n",
    "# Process the NIfTI scan\n",
    "MEDinstance = dm.process_all_niftis()[0]  # one-element list/ one scan"
   ]
  },
  {
   "cell_type": "markdown",
   "id": "762888ca",
   "metadata": {},
   "source": [
    "### Image processing\n",
    "\n",
    "In the MEDimage package, the ``processing`` module offers many methods and functionalities for image processing (interpolation, segmentation...) and will be used in this phase, but we only need to to extract the ROI and replace the excluded values (values outside the ROI) in the image volume with a placeholder (NaN). The intensity and morphological mask are identical in this case (no re-segmentation or interpolation is done here)."
   ]
  },
  {
   "cell_type": "code",
   "execution_count": null,
   "id": "bc0c4790",
   "metadata": {},
   "outputs": [],
   "source": [
    "# Extraction of ROI mask :\n",
    "vol_obj_init, roi_obj_init = MEDimage.processing.get_roi_from_indexes(MEDinstance,\n",
    "                                                           name_roi='{tumor}',\n",
    "                                                           box_string='full')\n",
    "\n",
    "# Init processing & computation parameters\n",
    "MEDinstance.init_params(im_params)\n",
    "\n",
    "# Morphological Mask :\n",
    "vol_obj = deepcopy(vol_obj_init)\n",
    "roi_obj_morph = deepcopy(roi_obj_init)\n",
    "\n",
    "# Intensity mask Creation :\n",
    "roi_obj_int = deepcopy(roi_obj_morph)\n",
    "\n",
    "# Preparation of computation :\n",
    "MEDinstance.init_ntf_calculation(vol_obj)\n",
    "\n",
    "# Image volume ROI Extraction :\n",
    "vol_int_re = MEDimage.processing.roi_extract(\n",
    "    vol=vol_obj.data, \n",
    "    roi=roi_obj_int.data\n",
    ")"
   ]
  },
  {
   "cell_type": "markdown",
   "id": "a39c0f0a",
   "metadata": {},
   "source": [
    "### Non-Texture Features extraction\n",
    "In this section we extract the following families of features using ``biomarkers`` methods : \n",
    "\n",
    "*morphological features, local intensity, statistical, Intensity-based and intensity histogram-based.*\n",
    "\n",
    "No further image processing is required."
   ]
  },
  {
   "cell_type": "markdown",
   "id": "54668295",
   "metadata": {},
   "source": [
    "#### Morphological features\n",
    "\n",
    "Morphological features describe geometric aspects of a region of interest (ROI), such as area and\n",
    "volume. Morphological features are based on ROI voxel representations of the volume."
   ]
  },
  {
   "cell_type": "code",
   "execution_count": null,
   "id": "cbd48457",
   "metadata": {
    "scrolled": true
   },
   "outputs": [],
   "source": [
    "morph = MEDimage.biomarkers.morph.extract_all(\n",
    "            vol=vol_obj.data, \n",
    "            mask_int=roi_obj_int.data, \n",
    "            mask_morph=roi_obj_morph.data,\n",
    "            res=MEDinstance.params.process.scale_non_text,\n",
    "        )"
   ]
  },
  {
   "cell_type": "markdown",
   "id": "ee0e80e4",
   "metadata": {},
   "source": [
    "#### Local intensity features\n",
    "\n",
    "Voxel intensities within a defined neighborhood around a center voxel are used to compute local\n",
    "intensity features. By definition, local intensity features are calculated in 3D, and not per slice."
   ]
  },
  {
   "cell_type": "code",
   "execution_count": null,
   "id": "8de3dfc5",
   "metadata": {},
   "outputs": [],
   "source": [
    "local_intensity = MEDimage.biomarkers.local_intensity.extract_all(\n",
    "            img_obj=vol_obj.data,\n",
    "            roi_obj=roi_obj_int.data,\n",
    "            res=MEDinstance.params.process.scale_non_text,\n",
    "            intensity=MEDinstance.params.process.intensity\n",
    "        )"
   ]
  },
  {
   "cell_type": "markdown",
   "id": "65290cfd",
   "metadata": {},
   "source": [
    "#### Intensity-based statistical features\n",
    "\n",
    "The intensity-based statistical features describe how intensities within the region of interest (ROI)\n",
    "are distributed. The features in this set do not require discretization, and may be used to describe\n",
    "a continuous intensity distribution."
   ]
  },
  {
   "cell_type": "code",
   "execution_count": null,
   "id": "f91a2145",
   "metadata": {},
   "outputs": [],
   "source": [
    "stats = MEDimage.biomarkers.stats.extract_all(\n",
    "            vol=vol_int_re,\n",
    "            intensity=MEDinstance.params.process.intensity\n",
    "        )"
   ]
  },
  {
   "cell_type": "markdown",
   "id": "60a1bb76",
   "metadata": {},
   "source": [
    "#### Intensity histogram features\n",
    "\n",
    "An intensity histogram is generated by discretizing the original intensity distribution into\n",
    "intensity bins."
   ]
  },
  {
   "cell_type": "code",
   "execution_count": null,
   "id": "e9e53184",
   "metadata": {},
   "outputs": [],
   "source": [
    "int_hist = MEDimage.biomarkers.intensity_histogram.extract_all(vol=vol_int_re)"
   ]
  },
  {
   "cell_type": "markdown",
   "id": "ac52e085",
   "metadata": {},
   "source": [
    "#### Intensity-volume histogram features\n",
    "\n",
    "The (cumulative) intensity-volume histogram (IVH) of the set of voxel intensities in the ROI\n",
    "intensity mask describes the relationship between discretized intensity and the fraction of the\n",
    "volume containing at least intensity the same intensity."
   ]
  },
  {
   "cell_type": "code",
   "execution_count": null,
   "id": "9fc60011",
   "metadata": {},
   "outputs": [],
   "source": [
    "int_vol_hist = MEDimage.biomarkers.int_vol_hist.extract_all(\n",
    "                MEDimg=MEDinstance,\n",
    "                vol=vol_int_re,\n",
    "                vol_int_re=vol_int_re, \n",
    "                wd=1\n",
    "        )"
   ]
  },
  {
   "cell_type": "markdown",
   "id": "6a3d01ae",
   "metadata": {},
   "source": [
    "### Texture Features extraction\n",
    "In this section, for each text scale<sup>1</sup> we extract the matrix-based features using the same module ``biomarkers``:\n",
    "\n",
    "*Grey level co-occurrence based features (GLCM), grey level run length based features (GLRLM), grey level size zone matrix (GLSZM), grey level distance zone matrix (GLDZM), neighborhood grey tone difference matrix (NGTDM) and neighboring grey level dependence matrix (NGLDM).*\n",
    "\n",
    "After the computation is finished, we update the radiomics structure (update the attributes for results). \n",
    "\n",
    "No further image processing is done in this section as well.\n",
    "\n",
    "<sup>1</sup> For each time we resample the voxel spacing (In this case we resample the voxel spacing one time)."
   ]
  },
  {
   "cell_type": "markdown",
   "id": "400bcd20",
   "metadata": {},
   "source": [
    "**Note**: For our case (IBSI 1, Phase 1) we only re-sample the voxel spacing one time so the texture features will be calculated one time."
   ]
  },
  {
   "cell_type": "code",
   "execution_count": null,
   "id": "5bc89af2",
   "metadata": {},
   "outputs": [],
   "source": [
    "# Intensity mask creation :\n",
    "roi_obj_int = deepcopy(roi_obj_morph)\n",
    "\n",
    "# Preparation of computation :\n",
    "MEDinstance.init_tf_calculation(algo=0, gl=0, scale=0)\n",
    "\n",
    "# ROI Extraction :\n",
    "vol_quant_re = MEDimage.processing.roi_extract(\n",
    "    vol=vol_obj.data, \n",
    "    roi=roi_obj_int.data)"
   ]
  },
  {
   "cell_type": "markdown",
   "id": "dad64c28",
   "metadata": {},
   "source": [
    "#### Grey level co-occurrence based features\n",
    "\n",
    "The grey level co-occurrence matrix (GLCM) is a matrix that expresses how combinations of\n",
    "discretized intensities (grey levels) of neighboring pixels, or voxels in a 3D volume, are distributed\n",
    "along one of the image directions."
   ]
  },
  {
   "cell_type": "code",
   "execution_count": null,
   "id": "b1ba460c",
   "metadata": {},
   "outputs": [],
   "source": [
    "glcm = MEDimage.biomarkers.glcm.extract_all(\n",
    "                    vol=vol_quant_re, \n",
    "                    dist_correction=MEDinstance.params.radiomics.glcm.dist_correction)"
   ]
  },
  {
   "cell_type": "markdown",
   "id": "2dc89ef8",
   "metadata": {},
   "source": [
    "#### Grey level run length based features\n",
    "The grey level run length matrix (GLRLM) defines various texture features. Like the grey level co-occurrence matrix, GLRLM also assesses the distribution of\n",
    "discretized grey levels in an image or in a stack of images. However, whereas GLCM assesses\n",
    "co-occurrence of grey levels within neighboring pixels or voxels, GLRLM assesses run lengths. A\n",
    "run length is defined as the length of a consecutive sequence of pixels or voxels with the same grey level along a direction."
   ]
  },
  {
   "cell_type": "code",
   "execution_count": null,
   "id": "ffc856b0",
   "metadata": {},
   "outputs": [],
   "source": [
    "glrlm = MEDimage.biomarkers.glrlm.extract_all(\n",
    "                    vol=vol_quant_re,\n",
    "                    dist_correction=MEDinstance.params.radiomics.glrlm.dist_correction)"
   ]
  },
  {
   "cell_type": "markdown",
   "id": "fe42c1a3",
   "metadata": {},
   "source": [
    "#### Grey level size zone based features\n",
    "\n",
    "The grey level size zone matrix (GLSZM) counts the number of groups (or zones) of linked voxels.\n",
    "Voxels are linked if the neighboring voxel has an identical neighboring grey level."
   ]
  },
  {
   "cell_type": "code",
   "execution_count": null,
   "id": "f3ab15dd",
   "metadata": {
    "scrolled": true
   },
   "outputs": [],
   "source": [
    "glszm = MEDimage.biomarkers.glszm.extract_all(vol=vol_quant_re)"
   ]
  },
  {
   "cell_type": "markdown",
   "id": "4281a7f7",
   "metadata": {},
   "source": [
    "#### Grey level distance zone based features\n",
    "\n",
    "The grey level distance zone matrix (GLDZM) counts the number of groups (or zones) of linked\n",
    "voxels which share a specific neighboring grey level value and possess the same distance to ROI\n",
    "edge. The GLDZM thus captures the relation between location and grey level."
   ]
  },
  {
   "cell_type": "code",
   "execution_count": null,
   "id": "96a026c2",
   "metadata": {},
   "outputs": [],
   "source": [
    "gldzm = MEDimage.biomarkers.gldzm.extract_all(\n",
    "                    vol_int=vol_quant_re, \n",
    "                    mask_morph=roi_obj_morph.data)"
   ]
  },
  {
   "cell_type": "markdown",
   "id": "fceb6731",
   "metadata": {},
   "source": [
    "####  Neighbourhood grey tone difference based features\n",
    "\n",
    "The neighborhood grey tone difference matrix (NGTDM) contains the sum of grey level differences\n",
    "of pixels/voxels with a discretized grey level and the average discretized grey level of neighboring pixels/voxels within a Chebyshev distance. "
   ]
  },
  {
   "cell_type": "code",
   "execution_count": null,
   "id": "18ea2f75",
   "metadata": {},
   "outputs": [],
   "source": [
    "ngtdm = MEDimage.biomarkers.ngtdm.extract_all(\n",
    "                    vol=vol_quant_re, \n",
    "                    dist_correction=MEDinstance.params.radiomics.ngtdm.distance_norm)"
   ]
  },
  {
   "cell_type": "markdown",
   "id": "2c226236",
   "metadata": {},
   "source": [
    "####  Neighbouring grey level dependence based features:\n",
    "\n",
    "The neighbouring grey level dependence matrix (NGLDM) aims to capture the coarseness of the overall\n",
    "texture and is rotationally invariant."
   ]
  },
  {
   "cell_type": "code",
   "execution_count": null,
   "id": "c7b48e08",
   "metadata": {},
   "outputs": [],
   "source": [
    "ngldm = MEDimage.biomarkers.ngldm.extract_all(vol=vol_quant_re)"
   ]
  },
  {
   "cell_type": "markdown",
   "id": "cc012a7c",
   "metadata": {},
   "source": [
    "#### Update the radiomics structure\n",
    "\n",
    "This can be done by calling the *MEDimage* class method ``update_radiomics``"
   ]
  },
  {
   "cell_type": "code",
   "execution_count": null,
   "id": "0169e310",
   "metadata": {},
   "outputs": [],
   "source": [
    "MEDinstance.update_radiomics(\n",
    "            int_vol_hist_features=int_vol_hist, \n",
    "            morph_features=morph,\n",
    "            loc_int_features=local_intensity, \n",
    "            stats_features=stats, \n",
    "            int_hist_features=int_hist,\n",
    "            glcm_features=glcm, \n",
    "            glrlm_features=glrlm, \n",
    "            glszm_features=glszm, \n",
    "            gldzm_features=gldzm, \n",
    "            ngtdm_features=ngtdm, \n",
    "            ngldm_features=ngldm\n",
    "        )"
   ]
  },
  {
   "cell_type": "markdown",
   "id": "de7d666f",
   "metadata": {},
   "source": [
    "Finally we print the results"
   ]
  },
  {
   "cell_type": "code",
   "execution_count": null,
   "id": "b50a025e",
   "metadata": {
    "scrolled": false
   },
   "outputs": [],
   "source": [
    "from numpyencoder import NumpyEncoder\n",
    "from json import dumps\n",
    "\n",
    "print(dumps(MEDinstance.radiomics.image, indent=4, cls=NumpyEncoder))"
   ]
  },
  {
   "cell_type": "markdown",
   "id": "857d1fff",
   "metadata": {},
   "source": [
    "You can compare your results with other teams and check your level of consensus using the CSV provided [here](https://ibsi.radiomics.hevs.ch/assets/IBSI-1-submission-table.xlsx)"
   ]
  }
 ],
 "metadata": {
  "kernelspec": {
   "display_name": "medomics",
   "language": "python",
   "name": "medomics"
  },
  "language_info": {
   "codemirror_mode": {
    "name": "ipython",
    "version": 3
   },
   "file_extension": ".py",
   "mimetype": "text/x-python",
   "name": "python",
   "nbconvert_exporter": "python",
   "pygments_lexer": "ipython3",
   "version": "3.8.10"
  }
 },
 "nbformat": 4,
 "nbformat_minor": 5
}
