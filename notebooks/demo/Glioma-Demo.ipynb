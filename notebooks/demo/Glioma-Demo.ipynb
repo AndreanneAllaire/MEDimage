{
 "cells": [
  {
   "cell_type": "markdown",
   "id": "ecdbaa79",
   "metadata": {},
   "source": [
    "# Glioma Demo − Radiomic Computations\n",
    "\n",
    "@Author : [MEDomics consortium](https://github.com/medomics/)\n",
    "\n",
    "@EMAIL : medomics.info@gmail.com"
   ]
  },
  {
   "cell_type": "markdown",
   "id": "05880d2d",
   "metadata": {},
   "source": [
    "**STATEMENT**:\n",
    "This file is part of <https://github.com/MEDomics/MEDomicsLab/>,\n",
    "a package providing PYTHON programming tools for radiomics analysis.\n",
    "--> Copyright (C) MEDomicsLab consortium."
   ]
  },
  {
   "cell_type": "markdown",
   "id": "e1df9d32",
   "metadata": {},
   "source": [
    "## Introduction\n",
    "\n",
    "We recommend you take a look at the [DataManager-tutorial](https://colab.research.google.com/github/MahdiAll99/MEDimage/blob/dev/notebooks/tutorial/DataManager-Tutorial.ipynb) and the [MEDimage-tutorial notebook](https://colab.research.google.com/github/MahdiAll99/MEDimage/blob/dev/notebooks/tutorial/MEDimage-Tutorial.ipynb) before exploring this one.\n",
    "\n",
    "This notebook is a step by step demonstration of the ``MEDimage`` package using only one scan/patient. It is a final demo that shows in a brief way the flexibility of the code usage in the radiomics steps: processing, filtering, extraction. We will use a **[glioma TCGA](https://www.cancer.gov/about-nci/organization/ccg/research/structural-genomics/tcga)** cancer scam. A reminder of the radiomics workflow:\n",
    "\n",
    "<img src=\"../tutorial/images/RadiomicsFlowchart.jpg\" alt=\"Flowchart of radiomics study scheme\" style=\"width:500px;\"/>\n"
   ]
  },
  {
   "cell_type": "markdown",
   "id": "f7e50565",
   "metadata": {},
   "source": [
    "## Dataset - Glioma TCGA MR image\n",
    "In this notebook, feature computation is done using an MR image, which is provided in the dataset folder/repository:\n",
    "\n",
    "Information about our scan:\n",
    " - **ID**: Glioma-TCGA-02-003\n",
    " - **Imaging scan name**: T1\n",
    " - **Modality**: MRscan\n",
    " - **Regions of interest**:\n",
    "     - Number of regions: 6\n",
    "     - Names of ROIs: ED, ET, NET, ED_M, ET_M and NET_M\n",
    "     - ROI name: {ED}+{ET}+{NET}"
   ]
  },
  {
   "cell_type": "code",
   "execution_count": 1,
   "id": "af05f061",
   "metadata": {},
   "outputs": [],
   "source": [
    "import os\n",
    "import sys\n",
    "\n",
    "MODULE_DIR = os.path.dirname(os.path.abspath('../MEDimage/'))\n",
    "sys.path.append(os.path.dirname(MODULE_DIR))\n",
    "\n",
    "import MEDimage\n",
    "import numpy as np"
   ]
  },
  {
   "cell_type": "markdown",
   "id": "116e570a",
   "metadata": {},
   "source": [
    "## Initialization\n",
    "\n",
    "Initializing ``MEDimage`` class using an-already saved pickle object and setting file for processing and features extraction"
   ]
  },
  {
   "cell_type": "code",
   "execution_count": 2,
   "id": "df4c0ea7",
   "metadata": {
    "scrolled": false
   },
   "outputs": [],
   "source": [
    "from pathlib import Path\n",
    "\n",
    "path_data = Path(os.getcwd()) / 'data' / 'Glioma-TCGA-02-0003__T1.MRscan.npy'\n",
    "path_settings = Path(os.getcwd()) / 'settings' / 'Extraction_Glioma.json' # Path to the script settings\n",
    "im_params = MEDimage.utils.json_utils.load_json(path_settings) # load settings\n",
    "name_roi = '{ED}+{ET}+{NET}' # Region of interest name\n",
    "roi_type = ''\n",
    "roi_type_label = ''"
   ]
  },
  {
   "cell_type": "markdown",
   "id": "4a661aec",
   "metadata": {},
   "source": [
    "Load ``MEDimage`` class using pickle library"
   ]
  },
  {
   "cell_type": "code",
   "execution_count": 3,
   "id": "bcb661b0",
   "metadata": {},
   "outputs": [],
   "source": [
    "import pickle\n",
    "\n",
    "with open(path_data, 'rb') as f: MEDimg = pickle.load(f)\n",
    "MEDimg = MEDimage.MEDimage(MEDimg)"
   ]
  },
  {
   "cell_type": "markdown",
   "id": "b136a4b3",
   "metadata": {},
   "source": [
    "To initialize parameters, we use settings Dict and ``MEDimage`` class method ``init_params`` that takes a dict of params as argument and organize all parameters in class attributes and other inner classes."
   ]
  },
  {
   "cell_type": "code",
   "execution_count": 4,
   "id": "16a514bc",
   "metadata": {},
   "outputs": [],
   "source": [
    "MEDimg.init_params(im_params)"
   ]
  },
  {
   "cell_type": "markdown",
   "id": "6e01289b",
   "metadata": {},
   "source": [
    "## Quick features extraction"
   ]
  },
  {
   "cell_type": "markdown",
   "id": "545c805b",
   "metadata": {},
   "source": [
    "As always, the first step in radiomics analysis to create the ROI (region of interest)"
   ]
  },
  {
   "cell_type": "code",
   "execution_count": 5,
   "id": "b905c572",
   "metadata": {},
   "outputs": [],
   "source": [
    "vol_obj_init, roi_obj_init = MEDimage.processing.get_roi_from_indexes(\n",
    "            MEDimg,\n",
    "            name_roi=name_roi,\n",
    "            box_string=MEDimg.params.process.box_string)"
   ]
  },
  {
   "cell_type": "markdown",
   "id": "c8b39ad7",
   "metadata": {},
   "source": [
    "Some features do not need any pre-processing and can be extracted directly from imaging data like:\n",
    "- Local intensity features extraction"
   ]
  },
  {
   "cell_type": "code",
   "execution_count": null,
   "id": "40fcdead",
   "metadata": {},
   "outputs": [],
   "source": [
    "local_intensity = MEDimage.biomarkers.local_intensity.extract_all(\n",
    "                img_obj=vol_obj_init.data,\n",
    "                roi_obj=roi_obj_init.data,\n",
    "                res=MEDimg.params.process.scale_non_text\n",
    "            )"
   ]
  },
  {
   "cell_type": "markdown",
   "id": "19cb3896",
   "metadata": {},
   "source": [
    "You can also compute certain features from every feature family instead of extarcting all of them just by specifying its name. For example in the local intensity family we can extarct the local intensity peak feature only by running:"
   ]
  },
  {
   "cell_type": "code",
   "execution_count": 6,
   "id": "975a791c",
   "metadata": {},
   "outputs": [],
   "source": [
    "local_intensity_peak = MEDimage.biomarkers.local_intensity.peak_local(\n",
    "                img_obj=vol_obj_init.data,\n",
    "                roi_obj=roi_obj_init.data,\n",
    "                res=MEDimg.params.process.scale_non_text\n",
    "            )"
   ]
  },
  {
   "cell_type": "markdown",
   "id": "365eb8c7",
   "metadata": {},
   "source": [
    "- Interpolation: Use subpackage ``processing`` and method ``interp_volume``"
   ]
  },
  {
   "cell_type": "code",
   "execution_count": 7,
   "id": "3982b4ab",
   "metadata": {},
   "outputs": [],
   "source": [
    "# Interpolation\n",
    "# Intensity Mask\n",
    "vol_obj = MEDimage.processing.interp_volume(\n",
    "    MEDimage=MEDimg,\n",
    "    vol_obj_s=vol_obj_init,\n",
    "    vox_dim=MEDimg.params.process.scale_non_text,\n",
    "    interp_met=MEDimg.params.process.vol_interp,\n",
    "    round_val=MEDimg.params.process.gl_round,\n",
    "    image_type='image',\n",
    "    roi_obj_s=roi_obj_init,\n",
    "    box_string=MEDimg.params.process.box_string\n",
    ")\n",
    "# Morphological Mask\n",
    "roi_obj_morph = MEDimage.processing.interp_volume(\n",
    "    MEDimage=MEDimg,\n",
    "    vol_obj_s=roi_obj_init,\n",
    "    vox_dim=MEDimg.params.process.scale_non_text,\n",
    "    interp_met=MEDimg.params.process.roi_interp,\n",
    "    round_val=MEDimg.params.process.roi_pv,\n",
    "    image_type='roi', \n",
    "    roi_obj_s=roi_obj_init,\n",
    "    box_string=MEDimg.params.process.box_string\n",
    ")"
   ]
  },
  {
   "cell_type": "markdown",
   "id": "2e223cb6",
   "metadata": {},
   "source": [
    "- Re-segmentation: \n",
    "    - Range re-segmentation: Use subpackage ``processing`` and method ``range_re_seg``\n",
    "    - Outlier re-segmentation: Use subpackage ``processing`` and method ``outlier_re_seg``"
   ]
  },
  {
   "cell_type": "code",
   "execution_count": 8,
   "id": "9ed982ae",
   "metadata": {},
   "outputs": [],
   "source": [
    "from copy import deepcopy\n",
    "\n",
    "# Re-segmentation\n",
    "# Intensity mask range re-segmentation\n",
    "roi_obj_int = deepcopy(roi_obj_morph)\n",
    "roi_obj_int.data = MEDimage.processing.range_re_seg(\n",
    "    vol=vol_obj.data, \n",
    "    roi=roi_obj_int.data,\n",
    "    im_range=MEDimg.params.process.im_range\n",
    ")\n",
    "# Intensity mask outlier re-segmentation\n",
    "roi_obj_int.data = np.logical_and(\n",
    "    MEDimage.processing.outlier_re_seg(\n",
    "        vol=vol_obj.data, \n",
    "        roi=roi_obj_int.data, \n",
    "        outliers=MEDimg.params.process.outliers\n",
    "    ),\n",
    "    roi_obj_int.data\n",
    ").astype(int)"
   ]
  },
  {
   "cell_type": "markdown",
   "id": "c654aefa",
   "metadata": {},
   "source": [
    "- ROI extraction: Use subpackage ``processing`` and method ``roi_extract``"
   ]
  },
  {
   "cell_type": "code",
   "execution_count": 9,
   "id": "97dd287c",
   "metadata": {},
   "outputs": [],
   "source": [
    "vol_int_re = MEDimage.processing.roi_extract(\n",
    "    vol=vol_obj.data, \n",
    "    roi=roi_obj_int.data\n",
    ")"
   ]
  },
  {
   "cell_type": "markdown",
   "id": "ed77a4a9",
   "metadata": {},
   "source": [
    "- Statistical features extraction: Use subpackage ``biomarkers``, module ``stats`` and method ``extract_all``"
   ]
  },
  {
   "cell_type": "code",
   "execution_count": 10,
   "id": "1983e641",
   "metadata": {},
   "outputs": [],
   "source": [
    "stats = MEDimage.biomarkers.stats.extract_all(vol=vol_int_re)"
   ]
  },
  {
   "cell_type": "markdown",
   "id": "49b73ea5",
   "metadata": {},
   "source": [
    "- Texture features extraction: \n",
    "    - GLCM (Grey level co-occurrence matrix based features): Use subpackage ``biomarkers``, module ``glcm`` and method ``extract_all``"
   ]
  },
  {
   "cell_type": "code",
   "execution_count": 11,
   "id": "c0b50912",
   "metadata": {
    "scrolled": false
   },
   "outputs": [
    {
     "data": {
      "text/plain": [
       "{'Fcm_joint_max': 0.011650485436893204,\n",
       " 'Fcm_joint_avg': 374.5145631067961,\n",
       " 'Fcm_joint_var': 1309.6653218965027,\n",
       " 'Fcm_joint_entr': 8.853174666173969,\n",
       " 'Fcm_diff_avg': 22.81165048543689,\n",
       " 'Fcm_diff_var': 1212.183941936092,\n",
       " 'Fcm_diff_entr': 5.5492496583676125,\n",
       " 'Fcm_sum_avg': 749.0291262135922,\n",
       " 'Fcm_sum_var': 3506.1059477801864,\n",
       " 'Fcm_sum_entr': 6.485917664457119,\n",
       " 'Fcm_energy': 0.003046469978320294,\n",
       " 'Fcm_contrast': 1732.555339805825,\n",
       " 'Fcm_dissimilarity': 22.811650485436893,\n",
       " 'Fcm_inv_diff': 0.16320621152447834,\n",
       " 'Fcm_inv_diff_norm': 0.9179073318212602,\n",
       " 'Fcm_inv_diff_mom': 0.09759377424538454,\n",
       " 'Fcm_inv_diff_mom_norm': 0.9740549450992823,\n",
       " 'Fcm_inv_var': 0.0749449971767425,\n",
       " 'Fcm_corr': 0.3385503491468425,\n",
       " 'Fcm_auto_corr': 140704.54563106794,\n",
       " 'Fcm_clust_tend': 3506.1059477801864,\n",
       " 'Fcm_clust_shade': -480926.6714182042,\n",
       " 'Fcm_clust_prom': 101462489.84567294,\n",
       " 'Fcm_info_corr1': -0.3105600144367454,\n",
       " 'Fcm_info_corr2': 0.9805170210485148}"
      ]
     },
     "execution_count": 11,
     "metadata": {},
     "output_type": "execute_result"
    }
   ],
   "source": [
    "glcm = MEDimage.biomarkers.glcm.extract_all(\n",
    "        vol=vol_int_re, \n",
    "        dist_correction=MEDimg.params.radiomics.glcm.dist_correction\n",
    "    )\n",
    "glcm"
   ]
  },
  {
   "cell_type": "markdown",
   "id": "57594470",
   "metadata": {},
   "source": [
    "- Texture features single-extraction: \n",
    "    - GLCM (Grey level co-occurrence matrix based features): As mentioned before, you can extract features of your choice from any features family just by using their name, but this process is different for matrix-based features because the matrix needs to be computed before extracting the selected features in order to avoid repeated calculation of the matrix. Here is an example for GLCM:"
   ]
  },
  {
   "cell_type": "code",
   "execution_count": 12,
   "id": "20ffaf9c",
   "metadata": {},
   "outputs": [
    {
     "data": {
      "text/plain": [
       "(0.011650485436893204, 374.5145631067961)"
      ]
     },
     "execution_count": 12,
     "metadata": {},
     "output_type": "execute_result"
    }
   ],
   "source": [
    "# Computation of GLCM matrix\n",
    "glc_matrix = MEDimage.biomarkers.glcm.get_glcm_matrices(vol_int_re)\n",
    "# Extraction of joint maximum feature\n",
    "joint_max = MEDimage.biomarkers.glcm.joint_max(glc_matrix)\n",
    "# Extraction of joint average feature\n",
    "joint_avg = MEDimage.biomarkers.glcm.joint_avg(glc_matrix)\n",
    "joint_max, joint_avg"
   ]
  },
  {
   "cell_type": "markdown",
   "id": "c7f0dfdf",
   "metadata": {},
   "source": [
    "And logically we should have the same values whether we have used single extraction or family extraction. In a nutshell, processing and features extraction are pretty easy, just make sure you use the correct arguments and respect the order of the radiomics pipeline."
   ]
  },
  {
   "cell_type": "markdown",
   "id": "187a0d7b",
   "metadata": {},
   "source": [
    "## Image & Mask cropping - Box creation"
   ]
  },
  {
   "cell_type": "markdown",
   "id": "14256c08",
   "metadata": {},
   "source": [
    "In this section we will demonstrate how you can crop the image & the mask and generate a bounding box centered around the ROI with a specific cropping shape. This can be done using the method *crop_box()* in the processing sub-module. A cropped box serves the same purposes as the full imaging volume."
   ]
  },
  {
   "cell_type": "markdown",
   "id": "eba72dcd",
   "metadata": {},
   "source": [
    "Visualize imaging data before cropping"
   ]
  },
  {
   "cell_type": "code",
   "execution_count": 54,
   "id": "23ab55ef",
   "metadata": {
    "scrolled": false
   },
   "outputs": [
    {
     "data": {
      "image/png": "[encoded data removed]",
      "text/plain": [
       "<Figure size 576x576 with 2 Axes>"
      ]
     },
     "metadata": {
      "needs_background": "light"
     },
     "output_type": "display_data"
    }
   ],
   "source": [
    "import matplotlib.pyplot as plt\n",
    "\n",
    "\n",
    "_slice = 29 # index of slice that will be plotted\n",
    "plt.figure(figsize=(8,8))\n",
    "plt.subplot(2, 1, 1)\n",
    "plt.axis('off')\n",
    "plt.imshow(vol_obj_init.data[:, :, _slice], cmap='gray')\n",
    "plt.contour(roi_obj_init.data[:, :, _slice], colors='red', linewidths=0.4, origin='lower', alpha=0.5)\n",
    "plt.subplot(2, 1, 2)\n",
    "plt.axis('off')\n",
    "plt.imshow(roi_obj_init.data[:, :, _slice], cmap='gray')\n",
    "plt.show()"
   ]
  },
  {
   "cell_type": "markdown",
   "id": "8b23a6fd",
   "metadata": {},
   "source": [
    "Let's now specify the cropping shape and call the cropping method. You can use *compute_bounding_box* method in *processing* module to help you decide the shape of the box."
   ]
  },
  {
   "cell_type": "code",
   "execution_count": 26,
   "id": "95a6de39",
   "metadata": {
    "scrolled": true
   },
   "outputs": [],
   "source": [
    "# crop the initial imaging data\n",
    "crop_shape = [56, 122, 82] # All elements of crop_shape must be an even number (in voxels not in mm)\n",
    "new_image, new_roi = MEDimage.processing.crop_box(vol_obj_init.data, roi_obj_init.data, crop_shape)"
   ]
  },
  {
   "cell_type": "markdown",
   "id": "974c81f4",
   "metadata": {},
   "source": [
    "Visualize the cropped box"
   ]
  },
  {
   "cell_type": "code",
   "execution_count": 32,
   "id": "2fadee07",
   "metadata": {},
   "outputs": [
    {
     "data": {
      "image/png": "[encoded data removed]",
      "text/plain": [
       "<Figure size 576x576 with 2 Axes>"
      ]
     },
     "metadata": {
      "needs_background": "light"
     },
     "output_type": "display_data"
    }
   ],
   "source": [
    "_slice = 30 # index of slice that will be plotted\n",
    "plt.figure(figsize=(8,8))\n",
    "plt.subplot(2, 1, 1)\n",
    "plt.axis('off')\n",
    "plt.imshow(new_image[:, :, _slice], cmap='gray')\n",
    "plt.contour(new_roi[:, :, _slice], colors='red', linewidths=0.4, origin='lower', alpha=0.5)\n",
    "plt.subplot(2, 1, 2)\n",
    "plt.axis('off')\n",
    "plt.imshow(new_roi[:, :, _slice], cmap='gray')\n",
    "plt.show()"
   ]
  },
  {
   "cell_type": "markdown",
   "id": "7a9019fb",
   "metadata": {},
   "source": [
    "## Bonus: using the cropped box to compute radiomics"
   ]
  },
  {
   "cell_type": "markdown",
   "id": "ff839675",
   "metadata": {},
   "source": [
    "The created box can serve for the same purposes as the full image volume, as long as the full ROI is included in the cropped box (by choosing the right crop shape). Without processing, let's try to extract some basic features."
   ]
  },
  {
   "cell_type": "markdown",
   "id": "0d8aaa18",
   "metadata": {},
   "source": [
    "Update the imaging and mask data with the new cropped data"
   ]
  },
  {
   "cell_type": "code",
   "execution_count": 33,
   "id": "7ac74fc3",
   "metadata": {},
   "outputs": [],
   "source": [
    "local_intensity_peak_cropped = MEDimage.biomarkers.local_intensity.peak_local(\n",
    "                img_obj=vol_obj_init.data,\n",
    "                roi_obj=roi_obj_init.data,\n",
    "                res=MEDimg.params.process.scale_non_text\n",
    "            )"
   ]
  },
  {
   "cell_type": "markdown",
   "id": "8f2aea0e",
   "metadata": {},
   "source": [
    "And we should get the same results!"
   ]
  },
  {
   "cell_type": "code",
   "execution_count": 34,
   "id": "6751250e",
   "metadata": {},
   "outputs": [
    {
     "data": {
      "text/plain": [
       "(834.9589, 834.9589)"
      ]
     },
     "execution_count": 34,
     "metadata": {},
     "output_type": "execute_result"
    }
   ],
   "source": [
    "local_intensity_peak, local_intensity_peak_cropped"
   ]
  },
  {
   "cell_type": "markdown",
   "id": "af399739",
   "metadata": {},
   "source": [
    "## Features extraction from filtered image"
   ]
  },
  {
   "cell_type": "markdown",
   "id": "fad73cd9",
   "metadata": {},
   "source": [
    "This section will be updated soon, after we are done refactoring the filters subpackage."
   ]
  },
  {
   "cell_type": "markdown",
   "id": "1371ca9b",
   "metadata": {},
   "source": [
    "## Conclusion\n",
    "\n",
    "This final demo shows how the use of the ``MEDimage`` package can be easy and manipulate and since it has been standardized with the [IBSI](https://theibsi.github.io/) norms, it makes it a useful tool for reproducible image processing and features extraction."
   ]
  }
 ],
 "metadata": {
  "interpreter": {
   "hash": "690809811b19584f778c4442b934fd193633a60aa2ec602bd8e4817043639bc9"
  },
  "kernelspec": {
   "display_name": "medomics",
   "language": "python",
   "name": "medomics"
  },
  "language_info": {
   "codemirror_mode": {
    "name": "ipython",
    "version": 3
   },
   "file_extension": ".py",
   "mimetype": "text/x-python",
   "name": "python",
   "nbconvert_exporter": "python",
   "pygments_lexer": "ipython3",
   "version": "3.8.10"
  }
 },
 "nbformat": 4,
 "nbformat_minor": 5
}
