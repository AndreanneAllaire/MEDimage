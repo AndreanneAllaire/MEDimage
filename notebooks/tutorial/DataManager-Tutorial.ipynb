{
 "cells": [
  {
   "cell_type": "markdown",
   "id": "ecdbaa79",
   "metadata": {},
   "source": [
    "# DataManager Tutorial − Initiation to the DataManager class\n",
    "\n",
    "@Author : [MEDomics consortium](https://github.com/medomics/)\n",
    "\n",
    "@Email : medomics.info@gmail.com\n"
   ]
  },
  {
   "cell_type": "markdown",
   "id": "05880d2d",
   "metadata": {},
   "source": [
    "**STATEMENT**:\n",
    "This file is part of <https://github.com/MEDomics/MEDomicsLab/>,\n",
    "a package providing PYTHON programming tools for radiomics analysis.\n",
    "--> Copyright (C) MEDomicsLab consortium.\n",
    "\n",
    "This package is free software: you can redistribute it and/or modify\n",
    "it under the terms of the GNU General Public License as published by\n",
    "the Free Software Foundation, either version 3 of the License, or\n",
    "(at your option) any later version.\n",
    "\n",
    "This package is distributed in the hope that it will be useful,\n",
    "but WITHOUT ANY WARRANTY; without even the implied warranty of\n",
    "MERCHANTABILITY or FITNESS FOR A PARTICULAR PURPOSE.  See the\n",
    "GNU General Public License for more details.\n",
    "\n",
    "You should have received a copy of the GNU General Public License\n",
    "along with this package.  If not, see <http://www.gnu.org/licenses/>."
   ]
  },
  {
   "cell_type": "markdown",
   "id": "e1df9d32",
   "metadata": {},
   "source": [
    "## Introduction\n",
    "\n",
    "\n",
    "This notebook is a tutorial for the *DataManager* class to give a detailed introduction & explanation on how to use this Python class. The *DataManager* class is the main object used in the *MEDimage* package when it comes to processing raw data in NIfTI and DICOM formats. This class can:\n",
    " - Create ``MEDimgae`` class objects from the raw data and makes the manipulation of these objects easy.\n",
    " - Help find the proper dimension and re-segmentation ranges options for radiomics analysis by running some pre-computation checks.\n",
    "\n",
    "In this tutorial, we will go through all this step by step and help you learn everything you need about the *DataManager* class."
   ]
  },
  {
   "cell_type": "markdown",
   "id": "95b2b171",
   "metadata": {},
   "source": [
    "The ``DataManager`` class is one of the first operation done in the radiomics analysis workflow, because it helps create the ``MEDimage`` class objects which is the main asset used in the *MEDimage* package.\n",
    "\n",
    "<img src=\"images/MEDimageFlowchart.png\"/>\n",
    "\n",
    "Let's take a look inside the ``DataManager`` box:\n",
    "\n",
    "<img src=\"images/DataManager-workflow.png\"/>\n",
    "\n",
    "Make sure your folder structure looks like the figure below, it is the same as the repository structure but you need to download the imaging data and place in *DICOM-STS*:\n",
    "<img src=\"images/DataManagerFolderStructure.png\"/>"
   ]
  },
  {
   "cell_type": "markdown",
   "id": "369b4fdc",
   "metadata": {},
   "source": [
    "Imports"
   ]
  },
  {
   "cell_type": "code",
   "execution_count": 1,
   "id": "af05f061",
   "metadata": {},
   "outputs": [],
   "source": [
    "import os\n",
    "import sys\n",
    "\n",
    "MODULE_DIR = os.path.dirname(os.path.abspath('../MEDimage/'))\n",
    "sys.path.append(os.path.dirname(MODULE_DIR))\n",
    "\n",
    "import MEDimage"
   ]
  },
  {
   "cell_type": "markdown",
   "id": "4b2b8efa",
   "metadata": {},
   "source": [
    "## Dataset\n",
    "\n",
    "The data used here consists of 204 different scans, with different scan types (MR, PET, CT) and with different contours (regions of interest) of the STS (soft tissue sarcoma) cancer. Every datasets should have a csv along with it. In our case, our dataset is linked to 4 csv files, every csv file contains information about the ROI we are dealing with for each scan:\n",
    " - **GTV mass**: Contains scans with GTV mass contrours.\n",
    " - **GTV edema**: Contains scans with GTV edema contrours.\n",
    " - **GTV ring**: Contains scans with GTV mass contrours included but GTV edema contrours excluded.\n",
    " - **GTV**: A more general csv containing all scans with combined ROI contours.\n",
    "You can find the csv files for this dataset in *csv* folder the repository. We will start by loading all the files here and taking a look into it before we go deeper in the ``DataManager`` class."
   ]
  },
  {
   "cell_type": "code",
   "execution_count": 2,
   "id": "d9e39a74",
   "metadata": {},
   "outputs": [
    {
     "data": {
      "text/html": [
       "<div>\n",
       "<style scoped>\n",
       "    .dataframe tbody tr th:only-of-type {\n",
       "        vertical-align: middle;\n",
       "    }\n",
       "\n",
       "    .dataframe tbody tr th {\n",
       "        vertical-align: top;\n",
       "    }\n",
       "\n",
       "    .dataframe thead th {\n",
       "        text-align: right;\n",
       "    }\n",
       "</style>\n",
       "<table border=\"1\" class=\"dataframe\">\n",
       "  <thead>\n",
       "    <tr style=\"text-align: right;\">\n",
       "      <th></th>\n",
       "      <th>PatientID</th>\n",
       "      <th>ImagingScanName</th>\n",
       "      <th>ImagingModality</th>\n",
       "      <th>ROIname</th>\n",
       "    </tr>\n",
       "  </thead>\n",
       "  <tbody>\n",
       "    <tr>\n",
       "      <th>0</th>\n",
       "      <td>STS-McGill-001</td>\n",
       "      <td>T1</td>\n",
       "      <td>MRscan</td>\n",
       "      <td>{GTV_Mass}</td>\n",
       "    </tr>\n",
       "    <tr>\n",
       "      <th>1</th>\n",
       "      <td>STS-McGill-001</td>\n",
       "      <td>CT</td>\n",
       "      <td>CTscan</td>\n",
       "      <td>{GTV_Mass}</td>\n",
       "    </tr>\n",
       "    <tr>\n",
       "      <th>2</th>\n",
       "      <td>STS-McGill-001</td>\n",
       "      <td>PET</td>\n",
       "      <td>PTscan</td>\n",
       "      <td>{GTV_Mass}</td>\n",
       "    </tr>\n",
       "    <tr>\n",
       "      <th>3</th>\n",
       "      <td>STS-McGill-001</td>\n",
       "      <td>T2FS</td>\n",
       "      <td>MRscan</td>\n",
       "      <td>{GTV_Mass}</td>\n",
       "    </tr>\n",
       "    <tr>\n",
       "      <th>4</th>\n",
       "      <td>STS-McGill-002</td>\n",
       "      <td>T1</td>\n",
       "      <td>MRscan</td>\n",
       "      <td>{GTV_Mass}</td>\n",
       "    </tr>\n",
       "    <tr>\n",
       "      <th>...</th>\n",
       "      <td>...</td>\n",
       "      <td>...</td>\n",
       "      <td>...</td>\n",
       "      <td>...</td>\n",
       "    </tr>\n",
       "    <tr>\n",
       "      <th>199</th>\n",
       "      <td>STS-McGill-050</td>\n",
       "      <td>T2FS</td>\n",
       "      <td>MRscan</td>\n",
       "      <td>{GTV_Mass}</td>\n",
       "    </tr>\n",
       "    <tr>\n",
       "      <th>200</th>\n",
       "      <td>STS-McGill-051</td>\n",
       "      <td>T1</td>\n",
       "      <td>MRscan</td>\n",
       "      <td>{GTV_Mass}</td>\n",
       "    </tr>\n",
       "    <tr>\n",
       "      <th>201</th>\n",
       "      <td>STS-McGill-051</td>\n",
       "      <td>CT</td>\n",
       "      <td>CTscan</td>\n",
       "      <td>{GTV_Mass}</td>\n",
       "    </tr>\n",
       "    <tr>\n",
       "      <th>202</th>\n",
       "      <td>STS-McGill-051</td>\n",
       "      <td>PET</td>\n",
       "      <td>PTscan</td>\n",
       "      <td>{GTV_Mass}</td>\n",
       "    </tr>\n",
       "    <tr>\n",
       "      <th>203</th>\n",
       "      <td>STS-McGill-051</td>\n",
       "      <td>T2FS</td>\n",
       "      <td>MRscan</td>\n",
       "      <td>{GTV_Mass}</td>\n",
       "    </tr>\n",
       "  </tbody>\n",
       "</table>\n",
       "<p>204 rows × 4 columns</p>\n",
       "</div>"
      ],
      "text/plain": [
       "          PatientID ImagingScanName ImagingModality     ROIname\n",
       "0    STS-McGill-001              T1          MRscan  {GTV_Mass}\n",
       "1    STS-McGill-001              CT          CTscan  {GTV_Mass}\n",
       "2    STS-McGill-001             PET          PTscan  {GTV_Mass}\n",
       "3    STS-McGill-001            T2FS          MRscan  {GTV_Mass}\n",
       "4    STS-McGill-002              T1          MRscan  {GTV_Mass}\n",
       "..              ...             ...             ...         ...\n",
       "199  STS-McGill-050            T2FS          MRscan  {GTV_Mass}\n",
       "200  STS-McGill-051              T1          MRscan  {GTV_Mass}\n",
       "201  STS-McGill-051              CT          CTscan  {GTV_Mass}\n",
       "202  STS-McGill-051             PET          PTscan  {GTV_Mass}\n",
       "203  STS-McGill-051            T2FS          MRscan  {GTV_Mass}\n",
       "\n",
       "[204 rows x 4 columns]"
      ]
     },
     "execution_count": 2,
     "metadata": {},
     "output_type": "execute_result"
    }
   ],
   "source": [
    "import pandas\n",
    "\n",
    "from pathlib import Path\n",
    "\n",
    "path_csv_mass = Path(os.getcwd()) / \"CSV\" / \"roiNames_GTVmass.csv\"\n",
    "path_csv_edema = Path(os.getcwd()) / \"CSV\" / \"roiNames_GTVedema.csv\"\n",
    "path_csv_ring = Path(os.getcwd()) / \"CSV\" / \"roiNames_GTVring.csv\"\n",
    "path_csv = Path(os.getcwd()) / \"CSV\" / \"roiNames_GTV.csv\"\n",
    "\n",
    "pandas.read_csv(path_csv_mass)"
   ]
  },
  {
   "cell_type": "code",
   "execution_count": 3,
   "id": "29c1ba20",
   "metadata": {},
   "outputs": [
    {
     "data": {
      "text/html": [
       "<div>\n",
       "<style scoped>\n",
       "    .dataframe tbody tr th:only-of-type {\n",
       "        vertical-align: middle;\n",
       "    }\n",
       "\n",
       "    .dataframe tbody tr th {\n",
       "        vertical-align: top;\n",
       "    }\n",
       "\n",
       "    .dataframe thead th {\n",
       "        text-align: right;\n",
       "    }\n",
       "</style>\n",
       "<table border=\"1\" class=\"dataframe\">\n",
       "  <thead>\n",
       "    <tr style=\"text-align: right;\">\n",
       "      <th></th>\n",
       "      <th>PatientID</th>\n",
       "      <th>ImagingScanName</th>\n",
       "      <th>ImagingModality</th>\n",
       "      <th>ROIname</th>\n",
       "    </tr>\n",
       "  </thead>\n",
       "  <tbody>\n",
       "    <tr>\n",
       "      <th>0</th>\n",
       "      <td>STS-McGill-001</td>\n",
       "      <td>T1</td>\n",
       "      <td>MRscan</td>\n",
       "      <td>{GTV_Edema}</td>\n",
       "    </tr>\n",
       "    <tr>\n",
       "      <th>1</th>\n",
       "      <td>STS-McGill-001</td>\n",
       "      <td>CT</td>\n",
       "      <td>CTscan</td>\n",
       "      <td>{GTV_Edema}</td>\n",
       "    </tr>\n",
       "    <tr>\n",
       "      <th>2</th>\n",
       "      <td>STS-McGill-001</td>\n",
       "      <td>PET</td>\n",
       "      <td>PTscan</td>\n",
       "      <td>{GTV_Edema}</td>\n",
       "    </tr>\n",
       "    <tr>\n",
       "      <th>3</th>\n",
       "      <td>STS-McGill-001</td>\n",
       "      <td>T2FS</td>\n",
       "      <td>MRscan</td>\n",
       "      <td>{GTV_Edema}</td>\n",
       "    </tr>\n",
       "    <tr>\n",
       "      <th>4</th>\n",
       "      <td>STS-McGill-002</td>\n",
       "      <td>T1</td>\n",
       "      <td>MRscan</td>\n",
       "      <td>{GTV_Edema}</td>\n",
       "    </tr>\n",
       "    <tr>\n",
       "      <th>...</th>\n",
       "      <td>...</td>\n",
       "      <td>...</td>\n",
       "      <td>...</td>\n",
       "      <td>...</td>\n",
       "    </tr>\n",
       "    <tr>\n",
       "      <th>123</th>\n",
       "      <td>STS-McGill-048</td>\n",
       "      <td>T2FS</td>\n",
       "      <td>MRscan</td>\n",
       "      <td>{GTV_Edema}</td>\n",
       "    </tr>\n",
       "    <tr>\n",
       "      <th>124</th>\n",
       "      <td>STS-McGill-050</td>\n",
       "      <td>T1</td>\n",
       "      <td>MRscan</td>\n",
       "      <td>{GTV_Edema}</td>\n",
       "    </tr>\n",
       "    <tr>\n",
       "      <th>125</th>\n",
       "      <td>STS-McGill-050</td>\n",
       "      <td>CT</td>\n",
       "      <td>CTscan</td>\n",
       "      <td>{GTV_Edema}</td>\n",
       "    </tr>\n",
       "    <tr>\n",
       "      <th>126</th>\n",
       "      <td>STS-McGill-050</td>\n",
       "      <td>PET</td>\n",
       "      <td>PTscan</td>\n",
       "      <td>{GTV_Edema}</td>\n",
       "    </tr>\n",
       "    <tr>\n",
       "      <th>127</th>\n",
       "      <td>STS-McGill-050</td>\n",
       "      <td>T2FS</td>\n",
       "      <td>MRscan</td>\n",
       "      <td>{GTV_Edema}</td>\n",
       "    </tr>\n",
       "  </tbody>\n",
       "</table>\n",
       "<p>128 rows × 4 columns</p>\n",
       "</div>"
      ],
      "text/plain": [
       "          PatientID ImagingScanName ImagingModality      ROIname\n",
       "0    STS-McGill-001              T1          MRscan  {GTV_Edema}\n",
       "1    STS-McGill-001              CT          CTscan  {GTV_Edema}\n",
       "2    STS-McGill-001             PET          PTscan  {GTV_Edema}\n",
       "3    STS-McGill-001            T2FS          MRscan  {GTV_Edema}\n",
       "4    STS-McGill-002              T1          MRscan  {GTV_Edema}\n",
       "..              ...             ...             ...          ...\n",
       "123  STS-McGill-048            T2FS          MRscan  {GTV_Edema}\n",
       "124  STS-McGill-050              T1          MRscan  {GTV_Edema}\n",
       "125  STS-McGill-050              CT          CTscan  {GTV_Edema}\n",
       "126  STS-McGill-050             PET          PTscan  {GTV_Edema}\n",
       "127  STS-McGill-050            T2FS          MRscan  {GTV_Edema}\n",
       "\n",
       "[128 rows x 4 columns]"
      ]
     },
     "execution_count": 3,
     "metadata": {},
     "output_type": "execute_result"
    }
   ],
   "source": [
    "pandas.read_csv(path_csv_edema)"
   ]
  },
  {
   "cell_type": "code",
   "execution_count": 4,
   "id": "f7196e20",
   "metadata": {},
   "outputs": [
    {
     "data": {
      "text/html": [
       "<div>\n",
       "<style scoped>\n",
       "    .dataframe tbody tr th:only-of-type {\n",
       "        vertical-align: middle;\n",
       "    }\n",
       "\n",
       "    .dataframe tbody tr th {\n",
       "        vertical-align: top;\n",
       "    }\n",
       "\n",
       "    .dataframe thead th {\n",
       "        text-align: right;\n",
       "    }\n",
       "</style>\n",
       "<table border=\"1\" class=\"dataframe\">\n",
       "  <thead>\n",
       "    <tr style=\"text-align: right;\">\n",
       "      <th></th>\n",
       "      <th>PatientID</th>\n",
       "      <th>ImagingScanName</th>\n",
       "      <th>ImagingModality</th>\n",
       "      <th>ROIname</th>\n",
       "    </tr>\n",
       "  </thead>\n",
       "  <tbody>\n",
       "    <tr>\n",
       "      <th>0</th>\n",
       "      <td>STS-McGill-001</td>\n",
       "      <td>T1</td>\n",
       "      <td>MRscan</td>\n",
       "      <td>{GTV_Mass}-{GTV_Edema}</td>\n",
       "    </tr>\n",
       "    <tr>\n",
       "      <th>1</th>\n",
       "      <td>STS-McGill-001</td>\n",
       "      <td>CT</td>\n",
       "      <td>CTscan</td>\n",
       "      <td>{GTV_Mass}-{GTV_Edema}</td>\n",
       "    </tr>\n",
       "    <tr>\n",
       "      <th>2</th>\n",
       "      <td>STS-McGill-001</td>\n",
       "      <td>PET</td>\n",
       "      <td>PTscan</td>\n",
       "      <td>{GTV_Mass}-{GTV_Edema}</td>\n",
       "    </tr>\n",
       "    <tr>\n",
       "      <th>3</th>\n",
       "      <td>STS-McGill-001</td>\n",
       "      <td>T2FS</td>\n",
       "      <td>MRscan</td>\n",
       "      <td>{GTV_Mass}-{GTV_Edema}</td>\n",
       "    </tr>\n",
       "    <tr>\n",
       "      <th>4</th>\n",
       "      <td>STS-McGill-002</td>\n",
       "      <td>T1</td>\n",
       "      <td>MRscan</td>\n",
       "      <td>{GTV_Mass}-{GTV_Edema}</td>\n",
       "    </tr>\n",
       "    <tr>\n",
       "      <th>...</th>\n",
       "      <td>...</td>\n",
       "      <td>...</td>\n",
       "      <td>...</td>\n",
       "      <td>...</td>\n",
       "    </tr>\n",
       "    <tr>\n",
       "      <th>123</th>\n",
       "      <td>STS-McGill-048</td>\n",
       "      <td>T2FS</td>\n",
       "      <td>MRscan</td>\n",
       "      <td>{GTV_Mass}-{GTV_Edema}</td>\n",
       "    </tr>\n",
       "    <tr>\n",
       "      <th>124</th>\n",
       "      <td>STS-McGill-050</td>\n",
       "      <td>T1</td>\n",
       "      <td>MRscan</td>\n",
       "      <td>{GTV_Mass}-{GTV_Edema}</td>\n",
       "    </tr>\n",
       "    <tr>\n",
       "      <th>125</th>\n",
       "      <td>STS-McGill-050</td>\n",
       "      <td>CT</td>\n",
       "      <td>CTscan</td>\n",
       "      <td>{GTV_Mass}-{GTV_Edema}</td>\n",
       "    </tr>\n",
       "    <tr>\n",
       "      <th>126</th>\n",
       "      <td>STS-McGill-050</td>\n",
       "      <td>PET</td>\n",
       "      <td>PTscan</td>\n",
       "      <td>{GTV_Mass}-{GTV_Edema}</td>\n",
       "    </tr>\n",
       "    <tr>\n",
       "      <th>127</th>\n",
       "      <td>STS-McGill-050</td>\n",
       "      <td>T2FS</td>\n",
       "      <td>MRscan</td>\n",
       "      <td>{GTV_Mass}-{GTV_Edema}</td>\n",
       "    </tr>\n",
       "  </tbody>\n",
       "</table>\n",
       "<p>128 rows × 4 columns</p>\n",
       "</div>"
      ],
      "text/plain": [
       "          PatientID ImagingScanName ImagingModality                 ROIname\n",
       "0    STS-McGill-001              T1          MRscan  {GTV_Mass}-{GTV_Edema}\n",
       "1    STS-McGill-001              CT          CTscan  {GTV_Mass}-{GTV_Edema}\n",
       "2    STS-McGill-001             PET          PTscan  {GTV_Mass}-{GTV_Edema}\n",
       "3    STS-McGill-001            T2FS          MRscan  {GTV_Mass}-{GTV_Edema}\n",
       "4    STS-McGill-002              T1          MRscan  {GTV_Mass}-{GTV_Edema}\n",
       "..              ...             ...             ...                     ...\n",
       "123  STS-McGill-048            T2FS          MRscan  {GTV_Mass}-{GTV_Edema}\n",
       "124  STS-McGill-050              T1          MRscan  {GTV_Mass}-{GTV_Edema}\n",
       "125  STS-McGill-050              CT          CTscan  {GTV_Mass}-{GTV_Edema}\n",
       "126  STS-McGill-050             PET          PTscan  {GTV_Mass}-{GTV_Edema}\n",
       "127  STS-McGill-050            T2FS          MRscan  {GTV_Mass}-{GTV_Edema}\n",
       "\n",
       "[128 rows x 4 columns]"
      ]
     },
     "execution_count": 4,
     "metadata": {},
     "output_type": "execute_result"
    }
   ],
   "source": [
    "pandas.read_csv(path_csv_ring)"
   ]
  },
  {
   "cell_type": "markdown",
   "id": "78d79f88",
   "metadata": {},
   "source": [
    "So in general, the csv is a summary of the scans in the dataset that is organized this way:\n",
    "- **PatientID**: ID of the patient or scan\n",
    "- **ImagingScanName**: Imaging scan name or known as series_description in DICOM headers.\n",
    "- **ImagingModality**: Imaging modality (MRcsan, PTscan or CTscan).\n",
    "- **ROInames**: Names of the ROIs that will be processed and extracted in the analysis."
   ]
  },
  {
   "cell_type": "markdown",
   "id": "9fa8a3bd",
   "metadata": {},
   "source": [
    "## DataManager initialization\n",
    "\n",
    "As mentionned before we are gonna use ``DataManager`` class to create ``MEDimage`` objects from raw data, we will use DICOM files only, but the process is the same for NIfTI format. We will only need path to the data folder (folder that hold all the data). The class diagram below shows the different attributes and methods. What's worth noting is:\n",
    "- ``process_all()`` method which process all type of data (NIfTI or DICOM).\n",
    "- ``process_all_dicoms`` method which process DICOM data only using the path to DICOM data (path given in initialization).\n",
    "- ``process_all_niftis`` method which process NIfTI data only using the path to NIfTI data (path given in initialization).\n",
    "- ``save`` attribute: if True will save the created ``MEDimage`` objects locally.\n",
    "- ``instances`` attribute: Holds all the created ``MEDimage`` objects (can hold 10 objects maximum)\n",
    "\n",
    "<img src=\"images/DataManagerClassDiagram.png\"/>\n",
    "\n",
    "We will go through all the functionalities of the ``DataManager`` class. For more details about the class please refer to the [DataManager documentation](https://medimage.readthedocs.io/en/documentation/wrangling.html#module-MEDimage.wrangling.DataManager)"
   ]
  },
  {
   "cell_type": "markdown",
   "id": "d0222e2b",
   "metadata": {},
   "source": [
    "### Initialization"
   ]
  },
  {
   "cell_type": "markdown",
   "id": "14b88703",
   "metadata": {},
   "source": [
    "The minimum information we need for intialization is a path to raw data folder, then we can call the ``DataManager`` from the ``wrangling`` sub-package. But we will add some other informations:\n",
    " - ``path_save``: path to where the results are gonna be saved.\n",
    " - ``save``: ``True`` to save the created ``MEDimage`` objetcs. (If you have more than 10 scans in your dataset you must set it to ``True``)\n",
    " - ``n_batch``:  Numerical value specifying the number of batch to use in the parallel computations (use 0 for serial computation)."
   ]
  },
  {
   "cell_type": "code",
   "execution_count": 5,
   "id": "235fa073",
   "metadata": {},
   "outputs": [],
   "source": [
    "path_dicoms_data = Path(os.getcwd()) / \"data\" / \"DICOM-STS\"\n",
    "path_save = Path(os.getcwd()) / \"data\" / \"npy\"\n",
    "dm = MEDimage.wrangling.DataManager(path_to_dicoms=path_dicoms_data,\n",
    "                                    path_save=path_save,\n",
    "                                    path_csv=path_csv,\n",
    "                                    save=True, \n",
    "                                    n_batch=2)"
   ]
  },
  {
   "cell_type": "markdown",
   "id": "ce4ea0fc",
   "metadata": {},
   "source": [
    "We have now initialized the ``DataManager`` and we can call ``process_all_dicoms`` for DICOM data, ``process_all_niftis`` for NIfTI data or ``process_all`` for both to process our data. This method returns a list of instances for datasets with 10 scans or less (for memory considerations). In our case we have 204 scans so the scans will to be localy saved."
   ]
  },
  {
   "cell_type": "code",
   "execution_count": 6,
   "id": "25eaa610",
   "metadata": {
    "scrolled": false
   },
   "outputs": [
    {
     "name": "stderr",
     "output_type": "stream",
     "text": [
      "2022-08-09 15:14:20,610\tINFO services.py:1090 -- View the Ray dashboard at \u001b[1m\u001b[32mhttp://127.0.0.1:8268\u001b[39m\u001b[22m\n"
     ]
    },
    {
     "name": "stdout",
     "output_type": "stream",
     "text": [
      "--> Reading all DICOM objects to create MEDimage classes\n",
      "\n",
      "--> Scanning all folders in initial directory..."
     ]
    },
    {
     "name": "stderr",
     "output_type": "stream",
     "text": [
      "100%|██████████| 34928/34928 [00:26<00:00, 1308.52it/s]\n"
     ]
    },
    {
     "name": "stdout",
     "output_type": "stream",
     "text": [
      "DONE\n",
      "--> Associating all RT objects to imaging volumes\n"
     ]
    },
    {
     "name": "stderr",
     "output_type": "stream",
     "text": [
      "100%|██████████| 204/204 [00:00<00:00, 124185.49it/s]\n"
     ]
    },
    {
     "name": "stdout",
     "output_type": "stream",
     "text": [
      "DONE\n"
     ]
    },
    {
     "name": "stderr",
     "output_type": "stream",
     "text": [
      "100%|██████████| 204/204 [14:34<00:00,  4.29s/it]"
     ]
    },
    {
     "name": "stdout",
     "output_type": "stream",
     "text": [
      "DONE\n"
     ]
    },
    {
     "name": "stderr",
     "output_type": "stream",
     "text": [
      "\n"
     ]
    },
    {
     "data": {
      "text/plain": [
       "[<MEDimage.MEDimage.MEDimage at 0x7fb4548c39d0>,\n",
       " <MEDimage.MEDimage.MEDimage at 0x7fb36cf3d190>,\n",
       " <MEDimage.MEDimage.MEDimage at 0x7fb36cdf4610>,\n",
       " <MEDimage.MEDimage.MEDimage at 0x7fb36c08d160>,\n",
       " <MEDimage.MEDimage.MEDimage at 0x7fb36ebab940>,\n",
       " <MEDimage.MEDimage.MEDimage at 0x7fb00fe7b160>,\n",
       " <MEDimage.MEDimage.MEDimage at 0x7fb36da25ac0>,\n",
       " <MEDimage.MEDimage.MEDimage at 0x7fb036c32d60>,\n",
       " <MEDimage.MEDimage.MEDimage at 0x7fb006037070>,\n",
       " <MEDimage.MEDimage.MEDimage at 0x7fb36ec13c10>]"
      ]
     },
     "execution_count": 6,
     "metadata": {},
     "output_type": "execute_result"
    }
   ],
   "source": [
    "dm.process_all_dicoms()"
   ]
  },
  {
   "cell_type": "markdown",
   "id": "975bbc0f",
   "metadata": {},
   "source": [
    "After this is done, we recommend calling the method ``summarize`` which is a class method that gives a summary of the processed scans depending on what CSV you are using for your data"
   ]
  },
  {
   "cell_type": "code",
   "execution_count": 7,
   "id": "39526ef4",
   "metadata": {},
   "outputs": [
    {
     "name": "stdout",
     "output_type": "stream",
     "text": [
      "| study   | institution   | scan_type   | roi_type   |   count |\n",
      "|:--------|:--------------|:------------|:-----------|--------:|\n",
      "| STS     |               |             |            |     204 |\n",
      "| STS     | McGill        |             |            |     204 |\n",
      "| STS     | McGill        | PET         |            |      51 |\n",
      "| STS     | McGill        | CT          |            |      51 |\n",
      "| STS     | McGill        | T2FS        |            |      51 |\n",
      "| STS     | McGill        | T1          |            |      51 |\n"
     ]
    }
   ],
   "source": [
    "dm.summarize()"
   ]
  },
  {
   "cell_type": "markdown",
   "id": "976d4ca8",
   "metadata": {},
   "source": [
    "You can also change the dataset csv file and update your ``DataManager`` by calling the method ``update_from_csv`` that takes a path to your new csv as argument and automatically calls the method ``summarize`` at the end."
   ]
  },
  {
   "cell_type": "markdown",
   "id": "1cdb7702",
   "metadata": {},
   "source": [
    "GTV Mass"
   ]
  },
  {
   "cell_type": "code",
   "execution_count": 8,
   "id": "9a156685",
   "metadata": {
    "scrolled": false
   },
   "outputs": [
    {
     "name": "stdout",
     "output_type": "stream",
     "text": [
      "| study   | institution   | scan_type   | roi_type   |   count |\n",
      "|:--------|:--------------|:------------|:-----------|--------:|\n",
      "| STS     |               |             |            |     204 |\n",
      "| STS     | McGill        |             |            |     204 |\n",
      "| STS     | McGill        | PET         |            |      51 |\n",
      "| STS     | McGill        | PET         | GTVmass    |      51 |\n",
      "| STS     | McGill        | CT          |            |      51 |\n",
      "| STS     | McGill        | CT          | GTVmass    |      51 |\n",
      "| STS     | McGill        | T2FS        |            |      51 |\n",
      "| STS     | McGill        | T2FS        | GTVmass    |      51 |\n",
      "| STS     | McGill        | T1          |            |      51 |\n",
      "| STS     | McGill        | T1          | GTVmass    |      51 |\n"
     ]
    }
   ],
   "source": [
    "dm.update_from_csv(path_csv_mass)"
   ]
  },
  {
   "cell_type": "markdown",
   "id": "357ab397",
   "metadata": {},
   "source": [
    "GTV Edema"
   ]
  },
  {
   "cell_type": "code",
   "execution_count": 9,
   "id": "37c321d4",
   "metadata": {},
   "outputs": [
    {
     "name": "stdout",
     "output_type": "stream",
     "text": [
      "| study   | institution   | scan_type   | roi_type   |   count |\n",
      "|:--------|:--------------|:------------|:-----------|--------:|\n",
      "| STS     |               |             |            |     204 |\n",
      "| STS     | McGill        |             |            |     204 |\n",
      "| STS     | McGill        | PET         |            |      51 |\n",
      "| STS     | McGill        | PET         | GTVedema   |      32 |\n",
      "| STS     | McGill        | CT          |            |      51 |\n",
      "| STS     | McGill        | CT          | GTVedema   |      32 |\n",
      "| STS     | McGill        | T2FS        |            |      51 |\n",
      "| STS     | McGill        | T2FS        | GTVedema   |      32 |\n",
      "| STS     | McGill        | T1          |            |      51 |\n",
      "| STS     | McGill        | T1          | GTVedema   |      32 |\n"
     ]
    }
   ],
   "source": [
    "dm.update_from_csv(path_csv_edema)"
   ]
  },
  {
   "cell_type": "markdown",
   "id": "306ada1d",
   "metadata": {},
   "source": [
    "GTV Ring"
   ]
  },
  {
   "cell_type": "code",
   "execution_count": 10,
   "id": "e490ba78",
   "metadata": {},
   "outputs": [
    {
     "name": "stdout",
     "output_type": "stream",
     "text": [
      "| study   | institution   | scan_type   | roi_type   |   count |\n",
      "|:--------|:--------------|:------------|:-----------|--------:|\n",
      "| STS     |               |             |            |     204 |\n",
      "| STS     | McGill        |             |            |     204 |\n",
      "| STS     | McGill        | PET         |            |      51 |\n",
      "| STS     | McGill        | PET         | GTVring    |      32 |\n",
      "| STS     | McGill        | CT          |            |      51 |\n",
      "| STS     | McGill        | CT          | GTVring    |      32 |\n",
      "| STS     | McGill        | T2FS        |            |      51 |\n",
      "| STS     | McGill        | T2FS        | GTVring    |      32 |\n",
      "| STS     | McGill        | T1          |            |      51 |\n",
      "| STS     | McGill        | T1          | GTVring    |      32 |\n"
     ]
    }
   ],
   "source": [
    "dm.update_from_csv(path_csv_ring)"
   ]
  },
  {
   "cell_type": "markdown",
   "id": "cfe770e7",
   "metadata": {},
   "source": [
    "We now have all scans converted to ``MEDimage`` objects saved localy in ``path_save``"
   ]
  },
  {
   "cell_type": "markdown",
   "id": "05900fa6",
   "metadata": {},
   "source": [
    "## DataManager radiomics pre-checks\n",
    "\n",
    "We have seen the first part of the use of the ``DataManager`` class that creates ``MEDimage`` objects from raw data. We will now use to run a pre-analysis of a certain group of scans. These pre-checks help find the proper dimension and re-segmentation ranges options for radiomics analysis by running some pre-computation checks. As seen in the class diagram above, it has many methods responsible for the pre-checks analysis:\n",
    "- ``pre_radiomics_checks()`` runs radiomics checks to find proper dimension and re-segmentation ranges options.\n",
    "- More methods for imaging summary will be added soon.\n",
    "The use of the ``pre_radiomics_checks()`` needs a little attention because it requires more arguments that the methods we have tested before. First, we have to add a json settings file to our ``DataManager`` instance, if not we can set the parameters directly (our case). The parameters we need to set are the following:\n",
    " - ``wildcards_dimensions`` We now need to define wildcards for dimensions [Read more about wildcards](https://www.linuxtechtips.com/2013/11/how-wildcards-work-in-linux-and-unix.html). wildcards is used here to identify the scans we would like to pre-process by scan type, study, institution...For example: a wildcard like 'STS * .MRscan.npy' means we will only pre-process STS studies & MR scans. Finally, you can set a different wildcard for each pre-processing step, a wildcard for dimensions check and another one for windows check. We will set it to *'\"STS-McGill*.MRscan.npy\"'* to process only MRI scans from STS study and McGill institution.\n",
    " - ``wildcards_window`` Same as ``wildcards_dimensions`` but for window checks this time.\n",
    " - ``use_instances``: If ``True`` will use the instances/objetcs of the ``MEDimage`` class saved in ``DataManager`` instance. We will set it to ``False`` since we saved all our objects localy.\n",
    " - ``path_csv``: Path to csv with roi information (check example in repository)"
   ]
  },
  {
   "cell_type": "code",
   "execution_count": 11,
   "id": "b430065c",
   "metadata": {},
   "outputs": [],
   "source": [
    "wildcards_dimensions = ['STS*.MRscan.npy']  # dimensions analysis wildcard\n",
    "wildcards_window = ['STS*.MRscan.npy']  # windows ranges analysis wildcard\n",
    "use_instances = False  # instances are saved localy and cannot be used on the fly"
   ]
  },
  {
   "cell_type": "markdown",
   "id": "ca0765ee",
   "metadata": {},
   "source": [
    "We now have everything we need to run our pre-checks all we have left is call our method and pass the right arguments."
   ]
  },
  {
   "cell_type": "code",
   "execution_count": 12,
   "id": "78d2c6ac",
   "metadata": {},
   "outputs": [
    {
     "name": "stdout",
     "output_type": "stream",
     "text": [
      "\n",
      "\n",
      "************************* PRE-RADIOMICS CHECKS *************************\n",
      "--> PRE-RADIOMICS CHECKS -- DIMENSIONS ... "
     ]
    },
    {
     "name": "stderr",
     "output_type": "stream",
     "text": [
      "100%|██████████| 102/102 [00:04<00:00, 20.75it/s]\n"
     ]
    },
    {
     "name": "stdout",
     "output_type": "stream",
     "text": [
      "DONE\n",
      "Elapsed time: 4.92 sec\n",
      "\n",
      "--> PRE-RADIOMICS CHECKS -- WINDOW ... \n"
     ]
    },
    {
     "name": "stderr",
     "output_type": "stream",
     "text": [
      "100%|██████████| 102/102 [00:09<00:00, 11.27it/s]\n"
     ]
    },
    {
     "name": "stdout",
     "output_type": "stream",
     "text": [
      "DONE\n",
      "Elapsed time: 17.23 sec\n",
      "\n",
      "--> TOTAL TIME FOR PRE-RADIOMICS CHECKS: 22.15 seconds\n",
      "-------------------------------------------------------------------------------------\n"
     ]
    }
   ],
   "source": [
    "dm.pre_radiomics_checks(wildcards_dimensions=wildcards_dimensions, \n",
    "                        wildcards_window=wildcards_window, \n",
    "                        use_instances=False,\n",
    "                        path_csv=path_csv_mass)"
   ]
  },
  {
   "cell_type": "markdown",
   "id": "b84020ca",
   "metadata": {},
   "source": [
    "The results must be now saved localy in a folder called *checks* as JSON files."
   ]
  },
  {
   "cell_type": "markdown",
   "id": "f724e0a4",
   "metadata": {},
   "source": [
    "### Common errors to avoid:\n",
    "\n",
    "- Bad dataset management: \n",
    "  - NIfTI: Make sure all your NIfTI files repsect the file naming convention:\n",
    "    - Imaging volume: patientID__ImagingScanName.ScanType(roiTypeLabel).nii.gz. For example *Glioma-TCGA-001__T1(tunmorAuto).MRscan.nii.gz*\n",
    "    - ROI mask: patientID__ImagingScanName(roiName).ROI.nii.gz. For example *Glioma-TCGA-001__T1(NET).ROI.nii.gz*\n",
    "  - DICOM: Make sure the PatientID in the DICOM headers respect the follwoing name: study-institution-id *(Ex: Glioma-TCGA-001)*\n",
    "- No files found: make sure you have used the right names in the wildcard. If u saved your files localy then they should be available at ``path_save`` and the code will find it automatically.\n",
    "- Same scans in different paths: Make sure you don't have the same scans (same filenames) in the different paths (maybe in a sub-folder)."
   ]
  }
 ],
 "metadata": {
  "kernelspec": {
   "display_name": "medomics",
   "language": "python",
   "name": "medomics"
  },
  "language_info": {
   "codemirror_mode": {
    "name": "ipython",
    "version": 3
   },
   "file_extension": ".py",
   "mimetype": "text/x-python",
   "name": "python",
   "nbconvert_exporter": "python",
   "pygments_lexer": "ipython3",
   "version": "3.8.10"
  }
 },
 "nbformat": 4,
 "nbformat_minor": 5
}
